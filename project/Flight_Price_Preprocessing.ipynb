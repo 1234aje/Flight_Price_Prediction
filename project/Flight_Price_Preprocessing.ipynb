{
 "cells": [
  {
   "cell_type": "code",
   "execution_count": 1,
   "id": "aac5557f",
   "metadata": {},
   "outputs": [],
   "source": [
    "import pandas as pd\n",
    "import numpy as np\n",
    "import json\n",
    "import pickle\n",
    "import warnings \n",
    "warnings.filterwarnings(\"ignore\")\n",
    "import re\n",
    "import matplotlib.pyplot as plt\n",
    "import seaborn as sns\n",
    "from sklearn.preprocessing import StandardScaler\n",
    "from sklearn.preprocessing import LabelEncoder,OneHotEncoder\n",
    "from sklearn.model_selection import train_test_split\n",
    "from sklearn.metrics import mean_squared_error,r2_score,mean_absolute_error\n",
    "from sklearn.linear_model import LinearRegression\n",
    "from sklearn.ensemble import RandomForestRegressor\n",
    "from sklearn.neighbors import KNeighborsRegressor\n",
    "from sklearn.tree import DecisionTreeRegressor\n",
    "from xgboost import XGBRegressor"
   ]
  },
  {
   "cell_type": "markdown",
   "id": "77adc160",
   "metadata": {},
   "source": [
    "### Step-1(problem statement)"
   ]
  },
  {
   "cell_type": "markdown",
   "id": "722508a0",
   "metadata": {},
   "source": [
    "## Step-2 (Data gathering)"
   ]
  },
  {
   "cell_type": "code",
   "execution_count": 2,
   "id": "0c1d64c0",
   "metadata": {},
   "outputs": [],
   "source": [
    "df_busi = pd.read_csv(\"business.csv\")"
   ]
  },
  {
   "cell_type": "code",
   "execution_count": 3,
   "id": "e5fcea0c",
   "metadata": {},
   "outputs": [],
   "source": [
    "df_busi[\"class\"]  = \"Business\""
   ]
  },
  {
   "cell_type": "code",
   "execution_count": 4,
   "id": "f0217150",
   "metadata": {},
   "outputs": [
    {
     "data": {
      "text/html": [
       "<div>\n",
       "<style scoped>\n",
       "    .dataframe tbody tr th:only-of-type {\n",
       "        vertical-align: middle;\n",
       "    }\n",
       "\n",
       "    .dataframe tbody tr th {\n",
       "        vertical-align: top;\n",
       "    }\n",
       "\n",
       "    .dataframe thead th {\n",
       "        text-align: right;\n",
       "    }\n",
       "</style>\n",
       "<table border=\"1\" class=\"dataframe\">\n",
       "  <thead>\n",
       "    <tr style=\"text-align: right;\">\n",
       "      <th></th>\n",
       "      <th>date</th>\n",
       "      <th>airline</th>\n",
       "      <th>ch_code</th>\n",
       "      <th>num_code</th>\n",
       "      <th>dep_time</th>\n",
       "      <th>from</th>\n",
       "      <th>time_taken</th>\n",
       "      <th>stop</th>\n",
       "      <th>arr_time</th>\n",
       "      <th>to</th>\n",
       "      <th>price</th>\n",
       "      <th>class</th>\n",
       "    </tr>\n",
       "  </thead>\n",
       "  <tbody>\n",
       "    <tr>\n",
       "      <th>0</th>\n",
       "      <td>11-02-2022</td>\n",
       "      <td>Air India</td>\n",
       "      <td>AI</td>\n",
       "      <td>868</td>\n",
       "      <td>18:00</td>\n",
       "      <td>Delhi</td>\n",
       "      <td>02h 00m</td>\n",
       "      <td>non-stop</td>\n",
       "      <td>20:00</td>\n",
       "      <td>Mumbai</td>\n",
       "      <td>25,612</td>\n",
       "      <td>Business</td>\n",
       "    </tr>\n",
       "    <tr>\n",
       "      <th>1</th>\n",
       "      <td>11-02-2022</td>\n",
       "      <td>Air India</td>\n",
       "      <td>AI</td>\n",
       "      <td>624</td>\n",
       "      <td>19:00</td>\n",
       "      <td>Delhi</td>\n",
       "      <td>02h 15m</td>\n",
       "      <td>non-stop</td>\n",
       "      <td>21:15</td>\n",
       "      <td>Mumbai</td>\n",
       "      <td>25,612</td>\n",
       "      <td>Business</td>\n",
       "    </tr>\n",
       "    <tr>\n",
       "      <th>2</th>\n",
       "      <td>11-02-2022</td>\n",
       "      <td>Air India</td>\n",
       "      <td>AI</td>\n",
       "      <td>531</td>\n",
       "      <td>20:00</td>\n",
       "      <td>Delhi</td>\n",
       "      <td>24h 45m</td>\n",
       "      <td>1-stop\\n\\t\\t\\t\\t\\t\\t\\t\\t\\t\\t\\t\\t\\n\\t\\t\\t\\t\\t\\t...</td>\n",
       "      <td>20:45</td>\n",
       "      <td>Mumbai</td>\n",
       "      <td>42,220</td>\n",
       "      <td>Business</td>\n",
       "    </tr>\n",
       "    <tr>\n",
       "      <th>3</th>\n",
       "      <td>11-02-2022</td>\n",
       "      <td>Air India</td>\n",
       "      <td>AI</td>\n",
       "      <td>839</td>\n",
       "      <td>21:25</td>\n",
       "      <td>Delhi</td>\n",
       "      <td>26h 30m</td>\n",
       "      <td>1-stop\\n\\t\\t\\t\\t\\t\\t\\t\\t\\t\\t\\t\\t\\n\\t\\t\\t\\t\\t\\t...</td>\n",
       "      <td>23:55</td>\n",
       "      <td>Mumbai</td>\n",
       "      <td>44,450</td>\n",
       "      <td>Business</td>\n",
       "    </tr>\n",
       "    <tr>\n",
       "      <th>4</th>\n",
       "      <td>11-02-2022</td>\n",
       "      <td>Air India</td>\n",
       "      <td>AI</td>\n",
       "      <td>544</td>\n",
       "      <td>17:15</td>\n",
       "      <td>Delhi</td>\n",
       "      <td>06h 40m</td>\n",
       "      <td>1-stop\\n\\t\\t\\t\\t\\t\\t\\t\\t\\t\\t\\t\\t\\n\\t\\t\\t\\t\\t\\t...</td>\n",
       "      <td>23:55</td>\n",
       "      <td>Mumbai</td>\n",
       "      <td>46,690</td>\n",
       "      <td>Business</td>\n",
       "    </tr>\n",
       "    <tr>\n",
       "      <th>...</th>\n",
       "      <td>...</td>\n",
       "      <td>...</td>\n",
       "      <td>...</td>\n",
       "      <td>...</td>\n",
       "      <td>...</td>\n",
       "      <td>...</td>\n",
       "      <td>...</td>\n",
       "      <td>...</td>\n",
       "      <td>...</td>\n",
       "      <td>...</td>\n",
       "      <td>...</td>\n",
       "      <td>...</td>\n",
       "    </tr>\n",
       "    <tr>\n",
       "      <th>93482</th>\n",
       "      <td>31-03-2022</td>\n",
       "      <td>Vistara</td>\n",
       "      <td>UK</td>\n",
       "      <td>822</td>\n",
       "      <td>09:45</td>\n",
       "      <td>Chennai</td>\n",
       "      <td>10h 05m</td>\n",
       "      <td>1-stop\\n\\t\\t\\t\\t\\t\\t\\t\\t\\t\\t\\t\\t\\n\\t\\t\\t\\t\\t\\t...</td>\n",
       "      <td>19:50</td>\n",
       "      <td>Hyderabad</td>\n",
       "      <td>69,265</td>\n",
       "      <td>Business</td>\n",
       "    </tr>\n",
       "    <tr>\n",
       "      <th>93483</th>\n",
       "      <td>31-03-2022</td>\n",
       "      <td>Vistara</td>\n",
       "      <td>UK</td>\n",
       "      <td>826</td>\n",
       "      <td>12:30</td>\n",
       "      <td>Chennai</td>\n",
       "      <td>10h 25m</td>\n",
       "      <td>1-stop\\n\\t\\t\\t\\t\\t\\t\\t\\t\\t\\t\\t\\t\\n\\t\\t\\t\\t\\t\\t...</td>\n",
       "      <td>22:55</td>\n",
       "      <td>Hyderabad</td>\n",
       "      <td>77,105</td>\n",
       "      <td>Business</td>\n",
       "    </tr>\n",
       "    <tr>\n",
       "      <th>93484</th>\n",
       "      <td>31-03-2022</td>\n",
       "      <td>Vistara</td>\n",
       "      <td>UK</td>\n",
       "      <td>832</td>\n",
       "      <td>07:05</td>\n",
       "      <td>Chennai</td>\n",
       "      <td>13h 50m</td>\n",
       "      <td>1-stop\\n\\t\\t\\t\\t\\t\\t\\t\\t\\t\\t\\t\\t\\n\\t\\t\\t\\t\\t\\t...</td>\n",
       "      <td>20:55</td>\n",
       "      <td>Hyderabad</td>\n",
       "      <td>79,099</td>\n",
       "      <td>Business</td>\n",
       "    </tr>\n",
       "    <tr>\n",
       "      <th>93485</th>\n",
       "      <td>31-03-2022</td>\n",
       "      <td>Vistara</td>\n",
       "      <td>UK</td>\n",
       "      <td>828</td>\n",
       "      <td>07:00</td>\n",
       "      <td>Chennai</td>\n",
       "      <td>10h 00m</td>\n",
       "      <td>1-stop\\n\\t\\t\\t\\t\\t\\t\\t\\t\\t\\t\\t\\t\\n\\t\\t\\t\\t\\t\\t...</td>\n",
       "      <td>17:00</td>\n",
       "      <td>Hyderabad</td>\n",
       "      <td>81,585</td>\n",
       "      <td>Business</td>\n",
       "    </tr>\n",
       "    <tr>\n",
       "      <th>93486</th>\n",
       "      <td>31-03-2022</td>\n",
       "      <td>Vistara</td>\n",
       "      <td>UK</td>\n",
       "      <td>822</td>\n",
       "      <td>09:45</td>\n",
       "      <td>Chennai</td>\n",
       "      <td>10h 05m</td>\n",
       "      <td>1-stop\\n\\t\\t\\t\\t\\t\\t\\t\\t\\t\\t\\t\\t\\n\\t\\t\\t\\t\\t\\t...</td>\n",
       "      <td>19:50</td>\n",
       "      <td>Hyderabad</td>\n",
       "      <td>81,585</td>\n",
       "      <td>Business</td>\n",
       "    </tr>\n",
       "  </tbody>\n",
       "</table>\n",
       "<p>93487 rows × 12 columns</p>\n",
       "</div>"
      ],
      "text/plain": [
       "             date    airline ch_code  num_code dep_time     from time_taken  \\\n",
       "0      11-02-2022  Air India      AI       868    18:00    Delhi    02h 00m   \n",
       "1      11-02-2022  Air India      AI       624    19:00    Delhi    02h 15m   \n",
       "2      11-02-2022  Air India      AI       531    20:00    Delhi    24h 45m   \n",
       "3      11-02-2022  Air India      AI       839    21:25    Delhi    26h 30m   \n",
       "4      11-02-2022  Air India      AI       544    17:15    Delhi    06h 40m   \n",
       "...           ...        ...     ...       ...      ...      ...        ...   \n",
       "93482  31-03-2022    Vistara      UK       822    09:45  Chennai    10h 05m   \n",
       "93483  31-03-2022    Vistara      UK       826    12:30  Chennai    10h 25m   \n",
       "93484  31-03-2022    Vistara      UK       832    07:05  Chennai    13h 50m   \n",
       "93485  31-03-2022    Vistara      UK       828    07:00  Chennai    10h 00m   \n",
       "93486  31-03-2022    Vistara      UK       822    09:45  Chennai    10h 05m   \n",
       "\n",
       "                                                    stop arr_time         to  \\\n",
       "0                                              non-stop     20:00     Mumbai   \n",
       "1                                              non-stop     21:15     Mumbai   \n",
       "2      1-stop\\n\\t\\t\\t\\t\\t\\t\\t\\t\\t\\t\\t\\t\\n\\t\\t\\t\\t\\t\\t...    20:45     Mumbai   \n",
       "3      1-stop\\n\\t\\t\\t\\t\\t\\t\\t\\t\\t\\t\\t\\t\\n\\t\\t\\t\\t\\t\\t...    23:55     Mumbai   \n",
       "4      1-stop\\n\\t\\t\\t\\t\\t\\t\\t\\t\\t\\t\\t\\t\\n\\t\\t\\t\\t\\t\\t...    23:55     Mumbai   \n",
       "...                                                  ...      ...        ...   \n",
       "93482  1-stop\\n\\t\\t\\t\\t\\t\\t\\t\\t\\t\\t\\t\\t\\n\\t\\t\\t\\t\\t\\t...    19:50  Hyderabad   \n",
       "93483  1-stop\\n\\t\\t\\t\\t\\t\\t\\t\\t\\t\\t\\t\\t\\n\\t\\t\\t\\t\\t\\t...    22:55  Hyderabad   \n",
       "93484  1-stop\\n\\t\\t\\t\\t\\t\\t\\t\\t\\t\\t\\t\\t\\n\\t\\t\\t\\t\\t\\t...    20:55  Hyderabad   \n",
       "93485  1-stop\\n\\t\\t\\t\\t\\t\\t\\t\\t\\t\\t\\t\\t\\n\\t\\t\\t\\t\\t\\t...    17:00  Hyderabad   \n",
       "93486  1-stop\\n\\t\\t\\t\\t\\t\\t\\t\\t\\t\\t\\t\\t\\n\\t\\t\\t\\t\\t\\t...    19:50  Hyderabad   \n",
       "\n",
       "        price     class  \n",
       "0      25,612  Business  \n",
       "1      25,612  Business  \n",
       "2      42,220  Business  \n",
       "3      44,450  Business  \n",
       "4      46,690  Business  \n",
       "...       ...       ...  \n",
       "93482  69,265  Business  \n",
       "93483  77,105  Business  \n",
       "93484  79,099  Business  \n",
       "93485  81,585  Business  \n",
       "93486  81,585  Business  \n",
       "\n",
       "[93487 rows x 12 columns]"
      ]
     },
     "execution_count": 4,
     "metadata": {},
     "output_type": "execute_result"
    }
   ],
   "source": [
    "df_busi"
   ]
  },
  {
   "cell_type": "code",
   "execution_count": 5,
   "id": "3fbf9305",
   "metadata": {},
   "outputs": [],
   "source": [
    "df_ec = pd.read_csv(\"economy.csv\")"
   ]
  },
  {
   "cell_type": "code",
   "execution_count": 6,
   "id": "120dd752",
   "metadata": {},
   "outputs": [],
   "source": [
    "df_ec[\"class\"] = \"Economy\""
   ]
  },
  {
   "cell_type": "code",
   "execution_count": 7,
   "id": "d9efb2ec",
   "metadata": {},
   "outputs": [
    {
     "data": {
      "text/html": [
       "<div>\n",
       "<style scoped>\n",
       "    .dataframe tbody tr th:only-of-type {\n",
       "        vertical-align: middle;\n",
       "    }\n",
       "\n",
       "    .dataframe tbody tr th {\n",
       "        vertical-align: top;\n",
       "    }\n",
       "\n",
       "    .dataframe thead th {\n",
       "        text-align: right;\n",
       "    }\n",
       "</style>\n",
       "<table border=\"1\" class=\"dataframe\">\n",
       "  <thead>\n",
       "    <tr style=\"text-align: right;\">\n",
       "      <th></th>\n",
       "      <th>date</th>\n",
       "      <th>airline</th>\n",
       "      <th>ch_code</th>\n",
       "      <th>num_code</th>\n",
       "      <th>dep_time</th>\n",
       "      <th>from</th>\n",
       "      <th>time_taken</th>\n",
       "      <th>stop</th>\n",
       "      <th>arr_time</th>\n",
       "      <th>to</th>\n",
       "      <th>price</th>\n",
       "      <th>class</th>\n",
       "    </tr>\n",
       "  </thead>\n",
       "  <tbody>\n",
       "    <tr>\n",
       "      <th>0</th>\n",
       "      <td>11-02-2022</td>\n",
       "      <td>SpiceJet</td>\n",
       "      <td>SG</td>\n",
       "      <td>8709</td>\n",
       "      <td>18:55</td>\n",
       "      <td>Delhi</td>\n",
       "      <td>02h 10m</td>\n",
       "      <td>non-stop</td>\n",
       "      <td>21:05</td>\n",
       "      <td>Mumbai</td>\n",
       "      <td>5,953</td>\n",
       "      <td>Economy</td>\n",
       "    </tr>\n",
       "    <tr>\n",
       "      <th>1</th>\n",
       "      <td>11-02-2022</td>\n",
       "      <td>SpiceJet</td>\n",
       "      <td>SG</td>\n",
       "      <td>8157</td>\n",
       "      <td>06:20</td>\n",
       "      <td>Delhi</td>\n",
       "      <td>02h 20m</td>\n",
       "      <td>non-stop</td>\n",
       "      <td>08:40</td>\n",
       "      <td>Mumbai</td>\n",
       "      <td>5,953</td>\n",
       "      <td>Economy</td>\n",
       "    </tr>\n",
       "    <tr>\n",
       "      <th>2</th>\n",
       "      <td>11-02-2022</td>\n",
       "      <td>AirAsia</td>\n",
       "      <td>I5</td>\n",
       "      <td>764</td>\n",
       "      <td>04:25</td>\n",
       "      <td>Delhi</td>\n",
       "      <td>02h 10m</td>\n",
       "      <td>non-stop</td>\n",
       "      <td>06:35</td>\n",
       "      <td>Mumbai</td>\n",
       "      <td>5,956</td>\n",
       "      <td>Economy</td>\n",
       "    </tr>\n",
       "    <tr>\n",
       "      <th>3</th>\n",
       "      <td>11-02-2022</td>\n",
       "      <td>Vistara</td>\n",
       "      <td>UK</td>\n",
       "      <td>995</td>\n",
       "      <td>10:20</td>\n",
       "      <td>Delhi</td>\n",
       "      <td>02h 15m</td>\n",
       "      <td>non-stop</td>\n",
       "      <td>12:35</td>\n",
       "      <td>Mumbai</td>\n",
       "      <td>5,955</td>\n",
       "      <td>Economy</td>\n",
       "    </tr>\n",
       "    <tr>\n",
       "      <th>4</th>\n",
       "      <td>11-02-2022</td>\n",
       "      <td>Vistara</td>\n",
       "      <td>UK</td>\n",
       "      <td>963</td>\n",
       "      <td>08:50</td>\n",
       "      <td>Delhi</td>\n",
       "      <td>02h 20m</td>\n",
       "      <td>non-stop</td>\n",
       "      <td>11:10</td>\n",
       "      <td>Mumbai</td>\n",
       "      <td>5,955</td>\n",
       "      <td>Economy</td>\n",
       "    </tr>\n",
       "    <tr>\n",
       "      <th>...</th>\n",
       "      <td>...</td>\n",
       "      <td>...</td>\n",
       "      <td>...</td>\n",
       "      <td>...</td>\n",
       "      <td>...</td>\n",
       "      <td>...</td>\n",
       "      <td>...</td>\n",
       "      <td>...</td>\n",
       "      <td>...</td>\n",
       "      <td>...</td>\n",
       "      <td>...</td>\n",
       "      <td>...</td>\n",
       "    </tr>\n",
       "    <tr>\n",
       "      <th>206769</th>\n",
       "      <td>31-03-2022</td>\n",
       "      <td>Vistara</td>\n",
       "      <td>UK</td>\n",
       "      <td>832</td>\n",
       "      <td>07:05</td>\n",
       "      <td>Chennai</td>\n",
       "      <td>13h 50m</td>\n",
       "      <td>1-stop\\n\\t\\t\\t\\t\\t\\t\\t\\t\\t\\t\\t\\t\\n\\t\\t\\t\\t\\t\\t...</td>\n",
       "      <td>20:55</td>\n",
       "      <td>Hyderabad</td>\n",
       "      <td>7,697</td>\n",
       "      <td>Economy</td>\n",
       "    </tr>\n",
       "    <tr>\n",
       "      <th>206770</th>\n",
       "      <td>31-03-2022</td>\n",
       "      <td>Vistara</td>\n",
       "      <td>UK</td>\n",
       "      <td>832</td>\n",
       "      <td>07:05</td>\n",
       "      <td>Chennai</td>\n",
       "      <td>13h 50m</td>\n",
       "      <td>1-stop\\n\\t\\t\\t\\t\\t\\t\\t\\t\\t\\t\\t\\t\\n\\t\\t\\t\\t\\t\\t...</td>\n",
       "      <td>20:55</td>\n",
       "      <td>Hyderabad</td>\n",
       "      <td>7,709</td>\n",
       "      <td>Economy</td>\n",
       "    </tr>\n",
       "    <tr>\n",
       "      <th>206771</th>\n",
       "      <td>31-03-2022</td>\n",
       "      <td>Vistara</td>\n",
       "      <td>UK</td>\n",
       "      <td>826</td>\n",
       "      <td>12:30</td>\n",
       "      <td>Chennai</td>\n",
       "      <td>20h 35m</td>\n",
       "      <td>1-stop\\n\\t\\t\\t\\t\\t\\t\\t\\t\\t\\t\\t\\t\\n\\t\\t\\t\\t\\t\\t...</td>\n",
       "      <td>09:05</td>\n",
       "      <td>Hyderabad</td>\n",
       "      <td>8,640</td>\n",
       "      <td>Economy</td>\n",
       "    </tr>\n",
       "    <tr>\n",
       "      <th>206772</th>\n",
       "      <td>31-03-2022</td>\n",
       "      <td>Vistara</td>\n",
       "      <td>UK</td>\n",
       "      <td>822</td>\n",
       "      <td>09:45</td>\n",
       "      <td>Chennai</td>\n",
       "      <td>23h 20m</td>\n",
       "      <td>1-stop\\n\\t\\t\\t\\t\\t\\t\\t\\t\\t\\t\\t\\t\\n\\t\\t\\t\\t\\t\\t...</td>\n",
       "      <td>09:05</td>\n",
       "      <td>Hyderabad</td>\n",
       "      <td>8,640</td>\n",
       "      <td>Economy</td>\n",
       "    </tr>\n",
       "    <tr>\n",
       "      <th>206773</th>\n",
       "      <td>31-03-2022</td>\n",
       "      <td>Vistara</td>\n",
       "      <td>UK</td>\n",
       "      <td>824</td>\n",
       "      <td>20:30</td>\n",
       "      <td>Chennai</td>\n",
       "      <td>24h 25m</td>\n",
       "      <td>1-stop\\n\\t\\t\\t\\t\\t\\t\\t\\t\\t\\t\\t\\t\\n\\t\\t\\t\\t\\t\\t...</td>\n",
       "      <td>20:55</td>\n",
       "      <td>Hyderabad</td>\n",
       "      <td>8,640</td>\n",
       "      <td>Economy</td>\n",
       "    </tr>\n",
       "  </tbody>\n",
       "</table>\n",
       "<p>206774 rows × 12 columns</p>\n",
       "</div>"
      ],
      "text/plain": [
       "              date   airline ch_code  num_code dep_time     from time_taken  \\\n",
       "0       11-02-2022  SpiceJet      SG      8709    18:55    Delhi    02h 10m   \n",
       "1       11-02-2022  SpiceJet      SG      8157    06:20    Delhi    02h 20m   \n",
       "2       11-02-2022   AirAsia      I5       764    04:25    Delhi    02h 10m   \n",
       "3       11-02-2022   Vistara      UK       995    10:20    Delhi    02h 15m   \n",
       "4       11-02-2022   Vistara      UK       963    08:50    Delhi    02h 20m   \n",
       "...            ...       ...     ...       ...      ...      ...        ...   \n",
       "206769  31-03-2022   Vistara      UK       832    07:05  Chennai    13h 50m   \n",
       "206770  31-03-2022   Vistara      UK       832    07:05  Chennai    13h 50m   \n",
       "206771  31-03-2022   Vistara      UK       826    12:30  Chennai    20h 35m   \n",
       "206772  31-03-2022   Vistara      UK       822    09:45  Chennai    23h 20m   \n",
       "206773  31-03-2022   Vistara      UK       824    20:30  Chennai    24h 25m   \n",
       "\n",
       "                                                     stop arr_time         to  \\\n",
       "0                                               non-stop     21:05     Mumbai   \n",
       "1                                               non-stop     08:40     Mumbai   \n",
       "2                                               non-stop     06:35     Mumbai   \n",
       "3                                               non-stop     12:35     Mumbai   \n",
       "4                                               non-stop     11:10     Mumbai   \n",
       "...                                                   ...      ...        ...   \n",
       "206769  1-stop\\n\\t\\t\\t\\t\\t\\t\\t\\t\\t\\t\\t\\t\\n\\t\\t\\t\\t\\t\\t...    20:55  Hyderabad   \n",
       "206770  1-stop\\n\\t\\t\\t\\t\\t\\t\\t\\t\\t\\t\\t\\t\\n\\t\\t\\t\\t\\t\\t...    20:55  Hyderabad   \n",
       "206771  1-stop\\n\\t\\t\\t\\t\\t\\t\\t\\t\\t\\t\\t\\t\\n\\t\\t\\t\\t\\t\\t...    09:05  Hyderabad   \n",
       "206772  1-stop\\n\\t\\t\\t\\t\\t\\t\\t\\t\\t\\t\\t\\t\\n\\t\\t\\t\\t\\t\\t...    09:05  Hyderabad   \n",
       "206773  1-stop\\n\\t\\t\\t\\t\\t\\t\\t\\t\\t\\t\\t\\t\\n\\t\\t\\t\\t\\t\\t...    20:55  Hyderabad   \n",
       "\n",
       "        price    class  \n",
       "0       5,953  Economy  \n",
       "1       5,953  Economy  \n",
       "2       5,956  Economy  \n",
       "3       5,955  Economy  \n",
       "4       5,955  Economy  \n",
       "...       ...      ...  \n",
       "206769  7,697  Economy  \n",
       "206770  7,709  Economy  \n",
       "206771  8,640  Economy  \n",
       "206772  8,640  Economy  \n",
       "206773  8,640  Economy  \n",
       "\n",
       "[206774 rows x 12 columns]"
      ]
     },
     "execution_count": 7,
     "metadata": {},
     "output_type": "execute_result"
    }
   ],
   "source": [
    "df_ec"
   ]
  },
  {
   "cell_type": "code",
   "execution_count": 8,
   "id": "bee941e5",
   "metadata": {},
   "outputs": [
    {
     "data": {
      "text/html": [
       "<div>\n",
       "<style scoped>\n",
       "    .dataframe tbody tr th:only-of-type {\n",
       "        vertical-align: middle;\n",
       "    }\n",
       "\n",
       "    .dataframe tbody tr th {\n",
       "        vertical-align: top;\n",
       "    }\n",
       "\n",
       "    .dataframe thead th {\n",
       "        text-align: right;\n",
       "    }\n",
       "</style>\n",
       "<table border=\"1\" class=\"dataframe\">\n",
       "  <thead>\n",
       "    <tr style=\"text-align: right;\">\n",
       "      <th></th>\n",
       "      <th>date</th>\n",
       "      <th>airline</th>\n",
       "      <th>ch_code</th>\n",
       "      <th>num_code</th>\n",
       "      <th>dep_time</th>\n",
       "      <th>from</th>\n",
       "      <th>time_taken</th>\n",
       "      <th>stop</th>\n",
       "      <th>arr_time</th>\n",
       "      <th>to</th>\n",
       "      <th>price</th>\n",
       "      <th>class</th>\n",
       "    </tr>\n",
       "  </thead>\n",
       "  <tbody>\n",
       "    <tr>\n",
       "      <th>0</th>\n",
       "      <td>11-02-2022</td>\n",
       "      <td>Air India</td>\n",
       "      <td>AI</td>\n",
       "      <td>868</td>\n",
       "      <td>18:00</td>\n",
       "      <td>Delhi</td>\n",
       "      <td>02h 00m</td>\n",
       "      <td>non-stop</td>\n",
       "      <td>20:00</td>\n",
       "      <td>Mumbai</td>\n",
       "      <td>25,612</td>\n",
       "      <td>Business</td>\n",
       "    </tr>\n",
       "    <tr>\n",
       "      <th>1</th>\n",
       "      <td>11-02-2022</td>\n",
       "      <td>Air India</td>\n",
       "      <td>AI</td>\n",
       "      <td>624</td>\n",
       "      <td>19:00</td>\n",
       "      <td>Delhi</td>\n",
       "      <td>02h 15m</td>\n",
       "      <td>non-stop</td>\n",
       "      <td>21:15</td>\n",
       "      <td>Mumbai</td>\n",
       "      <td>25,612</td>\n",
       "      <td>Business</td>\n",
       "    </tr>\n",
       "    <tr>\n",
       "      <th>2</th>\n",
       "      <td>11-02-2022</td>\n",
       "      <td>Air India</td>\n",
       "      <td>AI</td>\n",
       "      <td>531</td>\n",
       "      <td>20:00</td>\n",
       "      <td>Delhi</td>\n",
       "      <td>24h 45m</td>\n",
       "      <td>1-stop\\n\\t\\t\\t\\t\\t\\t\\t\\t\\t\\t\\t\\t\\n\\t\\t\\t\\t\\t\\t...</td>\n",
       "      <td>20:45</td>\n",
       "      <td>Mumbai</td>\n",
       "      <td>42,220</td>\n",
       "      <td>Business</td>\n",
       "    </tr>\n",
       "    <tr>\n",
       "      <th>3</th>\n",
       "      <td>11-02-2022</td>\n",
       "      <td>Air India</td>\n",
       "      <td>AI</td>\n",
       "      <td>839</td>\n",
       "      <td>21:25</td>\n",
       "      <td>Delhi</td>\n",
       "      <td>26h 30m</td>\n",
       "      <td>1-stop\\n\\t\\t\\t\\t\\t\\t\\t\\t\\t\\t\\t\\t\\n\\t\\t\\t\\t\\t\\t...</td>\n",
       "      <td>23:55</td>\n",
       "      <td>Mumbai</td>\n",
       "      <td>44,450</td>\n",
       "      <td>Business</td>\n",
       "    </tr>\n",
       "    <tr>\n",
       "      <th>4</th>\n",
       "      <td>11-02-2022</td>\n",
       "      <td>Air India</td>\n",
       "      <td>AI</td>\n",
       "      <td>544</td>\n",
       "      <td>17:15</td>\n",
       "      <td>Delhi</td>\n",
       "      <td>06h 40m</td>\n",
       "      <td>1-stop\\n\\t\\t\\t\\t\\t\\t\\t\\t\\t\\t\\t\\t\\n\\t\\t\\t\\t\\t\\t...</td>\n",
       "      <td>23:55</td>\n",
       "      <td>Mumbai</td>\n",
       "      <td>46,690</td>\n",
       "      <td>Business</td>\n",
       "    </tr>\n",
       "    <tr>\n",
       "      <th>...</th>\n",
       "      <td>...</td>\n",
       "      <td>...</td>\n",
       "      <td>...</td>\n",
       "      <td>...</td>\n",
       "      <td>...</td>\n",
       "      <td>...</td>\n",
       "      <td>...</td>\n",
       "      <td>...</td>\n",
       "      <td>...</td>\n",
       "      <td>...</td>\n",
       "      <td>...</td>\n",
       "      <td>...</td>\n",
       "    </tr>\n",
       "    <tr>\n",
       "      <th>93482</th>\n",
       "      <td>31-03-2022</td>\n",
       "      <td>Vistara</td>\n",
       "      <td>UK</td>\n",
       "      <td>822</td>\n",
       "      <td>09:45</td>\n",
       "      <td>Chennai</td>\n",
       "      <td>10h 05m</td>\n",
       "      <td>1-stop\\n\\t\\t\\t\\t\\t\\t\\t\\t\\t\\t\\t\\t\\n\\t\\t\\t\\t\\t\\t...</td>\n",
       "      <td>19:50</td>\n",
       "      <td>Hyderabad</td>\n",
       "      <td>69,265</td>\n",
       "      <td>Business</td>\n",
       "    </tr>\n",
       "    <tr>\n",
       "      <th>93483</th>\n",
       "      <td>31-03-2022</td>\n",
       "      <td>Vistara</td>\n",
       "      <td>UK</td>\n",
       "      <td>826</td>\n",
       "      <td>12:30</td>\n",
       "      <td>Chennai</td>\n",
       "      <td>10h 25m</td>\n",
       "      <td>1-stop\\n\\t\\t\\t\\t\\t\\t\\t\\t\\t\\t\\t\\t\\n\\t\\t\\t\\t\\t\\t...</td>\n",
       "      <td>22:55</td>\n",
       "      <td>Hyderabad</td>\n",
       "      <td>77,105</td>\n",
       "      <td>Business</td>\n",
       "    </tr>\n",
       "    <tr>\n",
       "      <th>93484</th>\n",
       "      <td>31-03-2022</td>\n",
       "      <td>Vistara</td>\n",
       "      <td>UK</td>\n",
       "      <td>832</td>\n",
       "      <td>07:05</td>\n",
       "      <td>Chennai</td>\n",
       "      <td>13h 50m</td>\n",
       "      <td>1-stop\\n\\t\\t\\t\\t\\t\\t\\t\\t\\t\\t\\t\\t\\n\\t\\t\\t\\t\\t\\t...</td>\n",
       "      <td>20:55</td>\n",
       "      <td>Hyderabad</td>\n",
       "      <td>79,099</td>\n",
       "      <td>Business</td>\n",
       "    </tr>\n",
       "    <tr>\n",
       "      <th>93485</th>\n",
       "      <td>31-03-2022</td>\n",
       "      <td>Vistara</td>\n",
       "      <td>UK</td>\n",
       "      <td>828</td>\n",
       "      <td>07:00</td>\n",
       "      <td>Chennai</td>\n",
       "      <td>10h 00m</td>\n",
       "      <td>1-stop\\n\\t\\t\\t\\t\\t\\t\\t\\t\\t\\t\\t\\t\\n\\t\\t\\t\\t\\t\\t...</td>\n",
       "      <td>17:00</td>\n",
       "      <td>Hyderabad</td>\n",
       "      <td>81,585</td>\n",
       "      <td>Business</td>\n",
       "    </tr>\n",
       "    <tr>\n",
       "      <th>93486</th>\n",
       "      <td>31-03-2022</td>\n",
       "      <td>Vistara</td>\n",
       "      <td>UK</td>\n",
       "      <td>822</td>\n",
       "      <td>09:45</td>\n",
       "      <td>Chennai</td>\n",
       "      <td>10h 05m</td>\n",
       "      <td>1-stop\\n\\t\\t\\t\\t\\t\\t\\t\\t\\t\\t\\t\\t\\n\\t\\t\\t\\t\\t\\t...</td>\n",
       "      <td>19:50</td>\n",
       "      <td>Hyderabad</td>\n",
       "      <td>81,585</td>\n",
       "      <td>Business</td>\n",
       "    </tr>\n",
       "  </tbody>\n",
       "</table>\n",
       "<p>93487 rows × 12 columns</p>\n",
       "</div>"
      ],
      "text/plain": [
       "             date    airline ch_code  num_code dep_time     from time_taken  \\\n",
       "0      11-02-2022  Air India      AI       868    18:00    Delhi    02h 00m   \n",
       "1      11-02-2022  Air India      AI       624    19:00    Delhi    02h 15m   \n",
       "2      11-02-2022  Air India      AI       531    20:00    Delhi    24h 45m   \n",
       "3      11-02-2022  Air India      AI       839    21:25    Delhi    26h 30m   \n",
       "4      11-02-2022  Air India      AI       544    17:15    Delhi    06h 40m   \n",
       "...           ...        ...     ...       ...      ...      ...        ...   \n",
       "93482  31-03-2022    Vistara      UK       822    09:45  Chennai    10h 05m   \n",
       "93483  31-03-2022    Vistara      UK       826    12:30  Chennai    10h 25m   \n",
       "93484  31-03-2022    Vistara      UK       832    07:05  Chennai    13h 50m   \n",
       "93485  31-03-2022    Vistara      UK       828    07:00  Chennai    10h 00m   \n",
       "93486  31-03-2022    Vistara      UK       822    09:45  Chennai    10h 05m   \n",
       "\n",
       "                                                    stop arr_time         to  \\\n",
       "0                                              non-stop     20:00     Mumbai   \n",
       "1                                              non-stop     21:15     Mumbai   \n",
       "2      1-stop\\n\\t\\t\\t\\t\\t\\t\\t\\t\\t\\t\\t\\t\\n\\t\\t\\t\\t\\t\\t...    20:45     Mumbai   \n",
       "3      1-stop\\n\\t\\t\\t\\t\\t\\t\\t\\t\\t\\t\\t\\t\\n\\t\\t\\t\\t\\t\\t...    23:55     Mumbai   \n",
       "4      1-stop\\n\\t\\t\\t\\t\\t\\t\\t\\t\\t\\t\\t\\t\\n\\t\\t\\t\\t\\t\\t...    23:55     Mumbai   \n",
       "...                                                  ...      ...        ...   \n",
       "93482  1-stop\\n\\t\\t\\t\\t\\t\\t\\t\\t\\t\\t\\t\\t\\n\\t\\t\\t\\t\\t\\t...    19:50  Hyderabad   \n",
       "93483  1-stop\\n\\t\\t\\t\\t\\t\\t\\t\\t\\t\\t\\t\\t\\n\\t\\t\\t\\t\\t\\t...    22:55  Hyderabad   \n",
       "93484  1-stop\\n\\t\\t\\t\\t\\t\\t\\t\\t\\t\\t\\t\\t\\n\\t\\t\\t\\t\\t\\t...    20:55  Hyderabad   \n",
       "93485  1-stop\\n\\t\\t\\t\\t\\t\\t\\t\\t\\t\\t\\t\\t\\n\\t\\t\\t\\t\\t\\t...    17:00  Hyderabad   \n",
       "93486  1-stop\\n\\t\\t\\t\\t\\t\\t\\t\\t\\t\\t\\t\\t\\n\\t\\t\\t\\t\\t\\t...    19:50  Hyderabad   \n",
       "\n",
       "        price     class  \n",
       "0      25,612  Business  \n",
       "1      25,612  Business  \n",
       "2      42,220  Business  \n",
       "3      44,450  Business  \n",
       "4      46,690  Business  \n",
       "...       ...       ...  \n",
       "93482  69,265  Business  \n",
       "93483  77,105  Business  \n",
       "93484  79,099  Business  \n",
       "93485  81,585  Business  \n",
       "93486  81,585  Business  \n",
       "\n",
       "[93487 rows x 12 columns]"
      ]
     },
     "execution_count": 8,
     "metadata": {},
     "output_type": "execute_result"
    }
   ],
   "source": [
    "df_busi"
   ]
  },
  {
   "cell_type": "code",
   "execution_count": 9,
   "id": "f73e31fe",
   "metadata": {},
   "outputs": [],
   "source": [
    "df = df_ec.append(df_busi,ignore_index= True)"
   ]
  },
  {
   "cell_type": "code",
   "execution_count": 10,
   "id": "2d1423ef",
   "metadata": {},
   "outputs": [
    {
     "data": {
      "text/plain": [
       "(300261, 12)"
      ]
     },
     "execution_count": 10,
     "metadata": {},
     "output_type": "execute_result"
    }
   ],
   "source": [
    "df.shape"
   ]
  },
  {
   "cell_type": "code",
   "execution_count": 11,
   "id": "def488a5",
   "metadata": {},
   "outputs": [],
   "source": [
    "df1 = df.copy() # data frame backup"
   ]
  },
  {
   "cell_type": "code",
   "execution_count": 12,
   "id": "5dc291b2",
   "metadata": {},
   "outputs": [
    {
     "data": {
      "text/html": [
       "<div>\n",
       "<style scoped>\n",
       "    .dataframe tbody tr th:only-of-type {\n",
       "        vertical-align: middle;\n",
       "    }\n",
       "\n",
       "    .dataframe tbody tr th {\n",
       "        vertical-align: top;\n",
       "    }\n",
       "\n",
       "    .dataframe thead th {\n",
       "        text-align: right;\n",
       "    }\n",
       "</style>\n",
       "<table border=\"1\" class=\"dataframe\">\n",
       "  <thead>\n",
       "    <tr style=\"text-align: right;\">\n",
       "      <th></th>\n",
       "      <th>date</th>\n",
       "      <th>airline</th>\n",
       "      <th>ch_code</th>\n",
       "      <th>num_code</th>\n",
       "      <th>dep_time</th>\n",
       "      <th>from</th>\n",
       "      <th>time_taken</th>\n",
       "      <th>stop</th>\n",
       "      <th>arr_time</th>\n",
       "      <th>to</th>\n",
       "      <th>price</th>\n",
       "      <th>class</th>\n",
       "    </tr>\n",
       "  </thead>\n",
       "  <tbody>\n",
       "    <tr>\n",
       "      <th>237524</th>\n",
       "      <td>24-03-2022</td>\n",
       "      <td>Vistara</td>\n",
       "      <td>UK</td>\n",
       "      <td>950</td>\n",
       "      <td>21:55</td>\n",
       "      <td>Mumbai</td>\n",
       "      <td>20h 10m</td>\n",
       "      <td>1-stop\\n\\t\\t\\t\\t\\t\\t\\t\\t\\t\\t\\t\\t\\n\\t\\t\\t\\t\\t\\t...</td>\n",
       "      <td>18:05</td>\n",
       "      <td>Kolkata</td>\n",
       "      <td>62,045</td>\n",
       "      <td>Business</td>\n",
       "    </tr>\n",
       "    <tr>\n",
       "      <th>118169</th>\n",
       "      <td>14-03-2022</td>\n",
       "      <td>Vistara</td>\n",
       "      <td>UK</td>\n",
       "      <td>850</td>\n",
       "      <td>19:55</td>\n",
       "      <td>Bangalore</td>\n",
       "      <td>24h 00m</td>\n",
       "      <td>1-stop\\n\\t\\t\\t\\t\\t\\t\\t\\t\\t\\t\\t\\t\\n\\t\\t\\t\\t\\t\\t...</td>\n",
       "      <td>19:55</td>\n",
       "      <td>Chennai</td>\n",
       "      <td>4,672</td>\n",
       "      <td>Economy</td>\n",
       "    </tr>\n",
       "    <tr>\n",
       "      <th>153132</th>\n",
       "      <td>17-02-2022</td>\n",
       "      <td>Air India</td>\n",
       "      <td>AI</td>\n",
       "      <td>698</td>\n",
       "      <td>22:15</td>\n",
       "      <td>Hyderabad</td>\n",
       "      <td>10h 55m</td>\n",
       "      <td>1-stop\\n\\t\\t\\t\\t\\t\\t\\t\\t\\t\\t\\t\\t\\n\\t\\t\\t\\t\\t\\t...</td>\n",
       "      <td>09:10</td>\n",
       "      <td>Delhi</td>\n",
       "      <td>15,058</td>\n",
       "      <td>Economy</td>\n",
       "    </tr>\n",
       "    <tr>\n",
       "      <th>39889</th>\n",
       "      <td>13-03-2022</td>\n",
       "      <td>Air India</td>\n",
       "      <td>AI</td>\n",
       "      <td>560</td>\n",
       "      <td>08:10</td>\n",
       "      <td>Delhi</td>\n",
       "      <td>23h 50m</td>\n",
       "      <td>1-stop\\n\\t\\t\\t\\t\\t\\t\\t\\t\\t\\t\\t\\t\\n\\t\\t\\t\\t\\t\\t...</td>\n",
       "      <td>08:00</td>\n",
       "      <td>Chennai</td>\n",
       "      <td>3,306</td>\n",
       "      <td>Economy</td>\n",
       "    </tr>\n",
       "    <tr>\n",
       "      <th>100591</th>\n",
       "      <td>20-03-2022</td>\n",
       "      <td>GO FIRST</td>\n",
       "      <td>G8</td>\n",
       "      <td>7548</td>\n",
       "      <td>19:00</td>\n",
       "      <td>Bangalore</td>\n",
       "      <td>01h 40m</td>\n",
       "      <td>non-stop</td>\n",
       "      <td>20:40</td>\n",
       "      <td>Mumbai</td>\n",
       "      <td>2,201</td>\n",
       "      <td>Economy</td>\n",
       "    </tr>\n",
       "  </tbody>\n",
       "</table>\n",
       "</div>"
      ],
      "text/plain": [
       "              date    airline ch_code  num_code dep_time       from  \\\n",
       "237524  24-03-2022    Vistara      UK       950    21:55     Mumbai   \n",
       "118169  14-03-2022    Vistara      UK       850    19:55  Bangalore   \n",
       "153132  17-02-2022  Air India      AI       698    22:15  Hyderabad   \n",
       "39889   13-03-2022  Air India      AI       560    08:10      Delhi   \n",
       "100591  20-03-2022   GO FIRST      G8      7548    19:00  Bangalore   \n",
       "\n",
       "       time_taken                                               stop arr_time  \\\n",
       "237524    20h 10m  1-stop\\n\\t\\t\\t\\t\\t\\t\\t\\t\\t\\t\\t\\t\\n\\t\\t\\t\\t\\t\\t...    18:05   \n",
       "118169    24h 00m  1-stop\\n\\t\\t\\t\\t\\t\\t\\t\\t\\t\\t\\t\\t\\n\\t\\t\\t\\t\\t\\t...    19:55   \n",
       "153132    10h 55m  1-stop\\n\\t\\t\\t\\t\\t\\t\\t\\t\\t\\t\\t\\t\\n\\t\\t\\t\\t\\t\\t...    09:10   \n",
       "39889     23h 50m  1-stop\\n\\t\\t\\t\\t\\t\\t\\t\\t\\t\\t\\t\\t\\n\\t\\t\\t\\t\\t\\t...    08:00   \n",
       "100591    01h 40m                                          non-stop     20:40   \n",
       "\n",
       "             to   price     class  \n",
       "237524  Kolkata  62,045  Business  \n",
       "118169  Chennai   4,672   Economy  \n",
       "153132    Delhi  15,058   Economy  \n",
       "39889   Chennai   3,306   Economy  \n",
       "100591   Mumbai   2,201   Economy  "
      ]
     },
     "execution_count": 12,
     "metadata": {},
     "output_type": "execute_result"
    }
   ],
   "source": [
    "df1.sample(5)"
   ]
  },
  {
   "cell_type": "markdown",
   "id": "81d87fac",
   "metadata": {},
   "source": [
    "### we have to do initial preprocessing beacuse we can see there is lot of things we have to do in data"
   ]
  },
  {
   "cell_type": "code",
   "execution_count": 13,
   "id": "0d13ad63",
   "metadata": {},
   "outputs": [],
   "source": [
    "df1_date2 = pd.DataFrame(df1[\"date\"].str.split(\"-\",expand = True).to_numpy().astype(int),columns = [\"Day\",\"Month\",\"Year\"])"
   ]
  },
  {
   "cell_type": "code",
   "execution_count": 14,
   "id": "a7060cd5",
   "metadata": {},
   "outputs": [
    {
     "data": {
      "text/html": [
       "<div>\n",
       "<style scoped>\n",
       "    .dataframe tbody tr th:only-of-type {\n",
       "        vertical-align: middle;\n",
       "    }\n",
       "\n",
       "    .dataframe tbody tr th {\n",
       "        vertical-align: top;\n",
       "    }\n",
       "\n",
       "    .dataframe thead th {\n",
       "        text-align: right;\n",
       "    }\n",
       "</style>\n",
       "<table border=\"1\" class=\"dataframe\">\n",
       "  <thead>\n",
       "    <tr style=\"text-align: right;\">\n",
       "      <th></th>\n",
       "      <th>Day</th>\n",
       "      <th>Month</th>\n",
       "      <th>Year</th>\n",
       "    </tr>\n",
       "  </thead>\n",
       "  <tbody>\n",
       "    <tr>\n",
       "      <th>0</th>\n",
       "      <td>11</td>\n",
       "      <td>2</td>\n",
       "      <td>2022</td>\n",
       "    </tr>\n",
       "    <tr>\n",
       "      <th>1</th>\n",
       "      <td>11</td>\n",
       "      <td>2</td>\n",
       "      <td>2022</td>\n",
       "    </tr>\n",
       "    <tr>\n",
       "      <th>2</th>\n",
       "      <td>11</td>\n",
       "      <td>2</td>\n",
       "      <td>2022</td>\n",
       "    </tr>\n",
       "    <tr>\n",
       "      <th>3</th>\n",
       "      <td>11</td>\n",
       "      <td>2</td>\n",
       "      <td>2022</td>\n",
       "    </tr>\n",
       "    <tr>\n",
       "      <th>4</th>\n",
       "      <td>11</td>\n",
       "      <td>2</td>\n",
       "      <td>2022</td>\n",
       "    </tr>\n",
       "    <tr>\n",
       "      <th>...</th>\n",
       "      <td>...</td>\n",
       "      <td>...</td>\n",
       "      <td>...</td>\n",
       "    </tr>\n",
       "    <tr>\n",
       "      <th>300256</th>\n",
       "      <td>31</td>\n",
       "      <td>3</td>\n",
       "      <td>2022</td>\n",
       "    </tr>\n",
       "    <tr>\n",
       "      <th>300257</th>\n",
       "      <td>31</td>\n",
       "      <td>3</td>\n",
       "      <td>2022</td>\n",
       "    </tr>\n",
       "    <tr>\n",
       "      <th>300258</th>\n",
       "      <td>31</td>\n",
       "      <td>3</td>\n",
       "      <td>2022</td>\n",
       "    </tr>\n",
       "    <tr>\n",
       "      <th>300259</th>\n",
       "      <td>31</td>\n",
       "      <td>3</td>\n",
       "      <td>2022</td>\n",
       "    </tr>\n",
       "    <tr>\n",
       "      <th>300260</th>\n",
       "      <td>31</td>\n",
       "      <td>3</td>\n",
       "      <td>2022</td>\n",
       "    </tr>\n",
       "  </tbody>\n",
       "</table>\n",
       "<p>300261 rows × 3 columns</p>\n",
       "</div>"
      ],
      "text/plain": [
       "        Day  Month  Year\n",
       "0        11      2  2022\n",
       "1        11      2  2022\n",
       "2        11      2  2022\n",
       "3        11      2  2022\n",
       "4        11      2  2022\n",
       "...     ...    ...   ...\n",
       "300256   31      3  2022\n",
       "300257   31      3  2022\n",
       "300258   31      3  2022\n",
       "300259   31      3  2022\n",
       "300260   31      3  2022\n",
       "\n",
       "[300261 rows x 3 columns]"
      ]
     },
     "execution_count": 14,
     "metadata": {},
     "output_type": "execute_result"
    }
   ],
   "source": [
    "df1_date2"
   ]
  },
  {
   "cell_type": "code",
   "execution_count": 15,
   "id": "03f81196",
   "metadata": {},
   "outputs": [
    {
     "data": {
      "text/plain": [
       "11"
      ]
     },
     "execution_count": 15,
     "metadata": {},
     "output_type": "execute_result"
    }
   ],
   "source": [
    "np.min(df1_date2[\"Day\"][(np.where(df1_date2[\"Month\"] == 2))[0]])\n"
   ]
  },
  {
   "cell_type": "code",
   "execution_count": 16,
   "id": "aba25c9e",
   "metadata": {},
   "outputs": [],
   "source": [
    "df1_date3 = np.where(df1_date2[\"Month\"] > 2,df1_date2[\"Day\"]+18,np.where(df1_date2[\"Month\"] == 2,df1_date2[\"Day\"]-10,df1_date2[\"Day\"]))"
   ]
  },
  {
   "cell_type": "code",
   "execution_count": 17,
   "id": "ad7c1bde",
   "metadata": {},
   "outputs": [
    {
     "data": {
      "text/plain": [
       "array([ 1,  1,  1, ..., 49, 49, 49])"
      ]
     },
     "execution_count": 17,
     "metadata": {},
     "output_type": "execute_result"
    }
   ],
   "source": [
    "df1_date3"
   ]
  },
  {
   "cell_type": "code",
   "execution_count": 18,
   "id": "df9e23b0",
   "metadata": {},
   "outputs": [],
   "source": [
    "df1[\"days_left\"] = df1_date3"
   ]
  },
  {
   "cell_type": "code",
   "execution_count": 19,
   "id": "3cef2851",
   "metadata": {},
   "outputs": [
    {
     "data": {
      "text/html": [
       "<div>\n",
       "<style scoped>\n",
       "    .dataframe tbody tr th:only-of-type {\n",
       "        vertical-align: middle;\n",
       "    }\n",
       "\n",
       "    .dataframe tbody tr th {\n",
       "        vertical-align: top;\n",
       "    }\n",
       "\n",
       "    .dataframe thead th {\n",
       "        text-align: right;\n",
       "    }\n",
       "</style>\n",
       "<table border=\"1\" class=\"dataframe\">\n",
       "  <thead>\n",
       "    <tr style=\"text-align: right;\">\n",
       "      <th></th>\n",
       "      <th>date</th>\n",
       "      <th>airline</th>\n",
       "      <th>ch_code</th>\n",
       "      <th>num_code</th>\n",
       "      <th>dep_time</th>\n",
       "      <th>from</th>\n",
       "      <th>time_taken</th>\n",
       "      <th>stop</th>\n",
       "      <th>arr_time</th>\n",
       "      <th>to</th>\n",
       "      <th>price</th>\n",
       "      <th>class</th>\n",
       "      <th>days_left</th>\n",
       "    </tr>\n",
       "  </thead>\n",
       "  <tbody>\n",
       "    <tr>\n",
       "      <th>225039</th>\n",
       "      <td>31-03-2022</td>\n",
       "      <td>Air India</td>\n",
       "      <td>AI</td>\n",
       "      <td>865</td>\n",
       "      <td>10:40</td>\n",
       "      <td>Delhi</td>\n",
       "      <td>20h 35m</td>\n",
       "      <td>1-stop\\n\\t\\t\\t\\t\\t\\t\\t\\t\\t\\t\\t\\t\\n\\t\\t\\t\\t\\t\\t...</td>\n",
       "      <td>07:15</td>\n",
       "      <td>Chennai</td>\n",
       "      <td>45,257</td>\n",
       "      <td>Business</td>\n",
       "      <td>49</td>\n",
       "    </tr>\n",
       "    <tr>\n",
       "      <th>724</th>\n",
       "      <td>15-02-2022</td>\n",
       "      <td>Air India</td>\n",
       "      <td>AI</td>\n",
       "      <td>9915</td>\n",
       "      <td>18:35</td>\n",
       "      <td>Delhi</td>\n",
       "      <td>21h 15m</td>\n",
       "      <td>1-stop\\n\\t\\t\\t\\t\\t\\t\\t\\t\\t\\t\\t\\t\\n\\t\\t\\t\\t\\t\\t...</td>\n",
       "      <td>15:50</td>\n",
       "      <td>Mumbai</td>\n",
       "      <td>14,985</td>\n",
       "      <td>Economy</td>\n",
       "      <td>5</td>\n",
       "    </tr>\n",
       "    <tr>\n",
       "      <th>120152</th>\n",
       "      <td>15-02-2022</td>\n",
       "      <td>Vistara</td>\n",
       "      <td>UK</td>\n",
       "      <td>774</td>\n",
       "      <td>20:35</td>\n",
       "      <td>Kolkata</td>\n",
       "      <td>17h 30m</td>\n",
       "      <td>1-stop\\n\\t\\t\\t\\t\\t\\t\\t\\t\\t\\t\\t\\t\\n\\t\\t\\t\\t\\t\\t...</td>\n",
       "      <td>14:05</td>\n",
       "      <td>Delhi</td>\n",
       "      <td>13,524</td>\n",
       "      <td>Economy</td>\n",
       "      <td>5</td>\n",
       "    </tr>\n",
       "    <tr>\n",
       "      <th>24407</th>\n",
       "      <td>07-03-2022</td>\n",
       "      <td>Air India</td>\n",
       "      <td>AI</td>\n",
       "      <td>889</td>\n",
       "      <td>09:25</td>\n",
       "      <td>Delhi</td>\n",
       "      <td>28h 05m</td>\n",
       "      <td>1-stop\\n\\t\\t\\t\\t\\t\\t\\t\\t\\t\\t\\t\\tVia Guwahati\\n...</td>\n",
       "      <td>13:30</td>\n",
       "      <td>Kolkata</td>\n",
       "      <td>6,542</td>\n",
       "      <td>Economy</td>\n",
       "      <td>25</td>\n",
       "    </tr>\n",
       "    <tr>\n",
       "      <th>116456</th>\n",
       "      <td>22-02-2022</td>\n",
       "      <td>Vistara</td>\n",
       "      <td>UK</td>\n",
       "      <td>897</td>\n",
       "      <td>07:55</td>\n",
       "      <td>Bangalore</td>\n",
       "      <td>08h 25m</td>\n",
       "      <td>2+-stop</td>\n",
       "      <td>16:20</td>\n",
       "      <td>Chennai</td>\n",
       "      <td>15,090</td>\n",
       "      <td>Economy</td>\n",
       "      <td>12</td>\n",
       "    </tr>\n",
       "  </tbody>\n",
       "</table>\n",
       "</div>"
      ],
      "text/plain": [
       "              date    airline ch_code  num_code dep_time       from  \\\n",
       "225039  31-03-2022  Air India      AI       865    10:40      Delhi   \n",
       "724     15-02-2022  Air India      AI      9915    18:35      Delhi   \n",
       "120152  15-02-2022    Vistara      UK       774    20:35    Kolkata   \n",
       "24407   07-03-2022  Air India      AI       889    09:25      Delhi   \n",
       "116456  22-02-2022    Vistara      UK       897    07:55  Bangalore   \n",
       "\n",
       "       time_taken                                               stop arr_time  \\\n",
       "225039    20h 35m  1-stop\\n\\t\\t\\t\\t\\t\\t\\t\\t\\t\\t\\t\\t\\n\\t\\t\\t\\t\\t\\t...    07:15   \n",
       "724       21h 15m  1-stop\\n\\t\\t\\t\\t\\t\\t\\t\\t\\t\\t\\t\\t\\n\\t\\t\\t\\t\\t\\t...    15:50   \n",
       "120152    17h 30m  1-stop\\n\\t\\t\\t\\t\\t\\t\\t\\t\\t\\t\\t\\t\\n\\t\\t\\t\\t\\t\\t...    14:05   \n",
       "24407     28h 05m  1-stop\\n\\t\\t\\t\\t\\t\\t\\t\\t\\t\\t\\t\\tVia Guwahati\\n...    13:30   \n",
       "116456    08h 25m                                            2+-stop    16:20   \n",
       "\n",
       "             to   price     class  days_left  \n",
       "225039  Chennai  45,257  Business         49  \n",
       "724      Mumbai  14,985   Economy          5  \n",
       "120152    Delhi  13,524   Economy          5  \n",
       "24407   Kolkata   6,542   Economy         25  \n",
       "116456  Chennai  15,090   Economy         12  "
      ]
     },
     "execution_count": 19,
     "metadata": {},
     "output_type": "execute_result"
    }
   ],
   "source": [
    "df1.sample(5)"
   ]
  },
  {
   "cell_type": "code",
   "execution_count": 20,
   "id": "a814270d",
   "metadata": {},
   "outputs": [
    {
     "name": "stdout",
     "output_type": "stream",
     "text": [
      "<class 'pandas.core.frame.DataFrame'>\n",
      "RangeIndex: 300261 entries, 0 to 300260\n",
      "Data columns (total 13 columns):\n",
      " #   Column      Non-Null Count   Dtype \n",
      "---  ------      --------------   ----- \n",
      " 0   date        300261 non-null  object\n",
      " 1   airline     300261 non-null  object\n",
      " 2   ch_code     300261 non-null  object\n",
      " 3   num_code    300261 non-null  int64 \n",
      " 4   dep_time    300261 non-null  object\n",
      " 5   from        300261 non-null  object\n",
      " 6   time_taken  300261 non-null  object\n",
      " 7   stop        300261 non-null  object\n",
      " 8   arr_time    300261 non-null  object\n",
      " 9   to          300261 non-null  object\n",
      " 10  price       300261 non-null  object\n",
      " 11  class       300261 non-null  object\n",
      " 12  days_left   300261 non-null  int32 \n",
      "dtypes: int32(1), int64(1), object(11)\n",
      "memory usage: 28.6+ MB\n"
     ]
    }
   ],
   "source": [
    "df1.info()"
   ]
  },
  {
   "cell_type": "code",
   "execution_count": 21,
   "id": "2e688999",
   "metadata": {},
   "outputs": [],
   "source": [
    "df1[\"flight_code\"] =  df1[\"num_code\"].astype(str) + \"-\" +  df1[\"ch_code\"] "
   ]
  },
  {
   "cell_type": "code",
   "execution_count": 22,
   "id": "e3d489a9",
   "metadata": {},
   "outputs": [
    {
     "data": {
      "text/html": [
       "<div>\n",
       "<style scoped>\n",
       "    .dataframe tbody tr th:only-of-type {\n",
       "        vertical-align: middle;\n",
       "    }\n",
       "\n",
       "    .dataframe tbody tr th {\n",
       "        vertical-align: top;\n",
       "    }\n",
       "\n",
       "    .dataframe thead th {\n",
       "        text-align: right;\n",
       "    }\n",
       "</style>\n",
       "<table border=\"1\" class=\"dataframe\">\n",
       "  <thead>\n",
       "    <tr style=\"text-align: right;\">\n",
       "      <th></th>\n",
       "      <th>date</th>\n",
       "      <th>airline</th>\n",
       "      <th>ch_code</th>\n",
       "      <th>num_code</th>\n",
       "      <th>dep_time</th>\n",
       "      <th>from</th>\n",
       "      <th>time_taken</th>\n",
       "      <th>stop</th>\n",
       "      <th>arr_time</th>\n",
       "      <th>to</th>\n",
       "      <th>price</th>\n",
       "      <th>class</th>\n",
       "      <th>days_left</th>\n",
       "      <th>flight_code</th>\n",
       "    </tr>\n",
       "  </thead>\n",
       "  <tbody>\n",
       "    <tr>\n",
       "      <th>0</th>\n",
       "      <td>11-02-2022</td>\n",
       "      <td>SpiceJet</td>\n",
       "      <td>SG</td>\n",
       "      <td>8709</td>\n",
       "      <td>18:55</td>\n",
       "      <td>Delhi</td>\n",
       "      <td>02h 10m</td>\n",
       "      <td>non-stop</td>\n",
       "      <td>21:05</td>\n",
       "      <td>Mumbai</td>\n",
       "      <td>5,953</td>\n",
       "      <td>Economy</td>\n",
       "      <td>1</td>\n",
       "      <td>8709-SG</td>\n",
       "    </tr>\n",
       "    <tr>\n",
       "      <th>1</th>\n",
       "      <td>11-02-2022</td>\n",
       "      <td>SpiceJet</td>\n",
       "      <td>SG</td>\n",
       "      <td>8157</td>\n",
       "      <td>06:20</td>\n",
       "      <td>Delhi</td>\n",
       "      <td>02h 20m</td>\n",
       "      <td>non-stop</td>\n",
       "      <td>08:40</td>\n",
       "      <td>Mumbai</td>\n",
       "      <td>5,953</td>\n",
       "      <td>Economy</td>\n",
       "      <td>1</td>\n",
       "      <td>8157-SG</td>\n",
       "    </tr>\n",
       "    <tr>\n",
       "      <th>2</th>\n",
       "      <td>11-02-2022</td>\n",
       "      <td>AirAsia</td>\n",
       "      <td>I5</td>\n",
       "      <td>764</td>\n",
       "      <td>04:25</td>\n",
       "      <td>Delhi</td>\n",
       "      <td>02h 10m</td>\n",
       "      <td>non-stop</td>\n",
       "      <td>06:35</td>\n",
       "      <td>Mumbai</td>\n",
       "      <td>5,956</td>\n",
       "      <td>Economy</td>\n",
       "      <td>1</td>\n",
       "      <td>764-I5</td>\n",
       "    </tr>\n",
       "    <tr>\n",
       "      <th>3</th>\n",
       "      <td>11-02-2022</td>\n",
       "      <td>Vistara</td>\n",
       "      <td>UK</td>\n",
       "      <td>995</td>\n",
       "      <td>10:20</td>\n",
       "      <td>Delhi</td>\n",
       "      <td>02h 15m</td>\n",
       "      <td>non-stop</td>\n",
       "      <td>12:35</td>\n",
       "      <td>Mumbai</td>\n",
       "      <td>5,955</td>\n",
       "      <td>Economy</td>\n",
       "      <td>1</td>\n",
       "      <td>995-UK</td>\n",
       "    </tr>\n",
       "    <tr>\n",
       "      <th>4</th>\n",
       "      <td>11-02-2022</td>\n",
       "      <td>Vistara</td>\n",
       "      <td>UK</td>\n",
       "      <td>963</td>\n",
       "      <td>08:50</td>\n",
       "      <td>Delhi</td>\n",
       "      <td>02h 20m</td>\n",
       "      <td>non-stop</td>\n",
       "      <td>11:10</td>\n",
       "      <td>Mumbai</td>\n",
       "      <td>5,955</td>\n",
       "      <td>Economy</td>\n",
       "      <td>1</td>\n",
       "      <td>963-UK</td>\n",
       "    </tr>\n",
       "  </tbody>\n",
       "</table>\n",
       "</div>"
      ],
      "text/plain": [
       "         date   airline ch_code  num_code dep_time   from time_taken  \\\n",
       "0  11-02-2022  SpiceJet      SG      8709    18:55  Delhi    02h 10m   \n",
       "1  11-02-2022  SpiceJet      SG      8157    06:20  Delhi    02h 20m   \n",
       "2  11-02-2022   AirAsia      I5       764    04:25  Delhi    02h 10m   \n",
       "3  11-02-2022   Vistara      UK       995    10:20  Delhi    02h 15m   \n",
       "4  11-02-2022   Vistara      UK       963    08:50  Delhi    02h 20m   \n",
       "\n",
       "        stop arr_time      to  price    class  days_left flight_code  \n",
       "0  non-stop     21:05  Mumbai  5,953  Economy          1     8709-SG  \n",
       "1  non-stop     08:40  Mumbai  5,953  Economy          1     8157-SG  \n",
       "2  non-stop     06:35  Mumbai  5,956  Economy          1      764-I5  \n",
       "3  non-stop     12:35  Mumbai  5,955  Economy          1      995-UK  \n",
       "4  non-stop     11:10  Mumbai  5,955  Economy          1      963-UK  "
      ]
     },
     "execution_count": 22,
     "metadata": {},
     "output_type": "execute_result"
    }
   ],
   "source": [
    "df1.head()"
   ]
  },
  {
   "cell_type": "code",
   "execution_count": 23,
   "id": "f4f6b318",
   "metadata": {},
   "outputs": [],
   "source": [
    "df1 = df1.drop([\"ch_code\",\"num_code\",\"date\"], axis = 1)"
   ]
  },
  {
   "cell_type": "code",
   "execution_count": 24,
   "id": "d8936dea",
   "metadata": {},
   "outputs": [
    {
     "data": {
      "text/html": [
       "<div>\n",
       "<style scoped>\n",
       "    .dataframe tbody tr th:only-of-type {\n",
       "        vertical-align: middle;\n",
       "    }\n",
       "\n",
       "    .dataframe tbody tr th {\n",
       "        vertical-align: top;\n",
       "    }\n",
       "\n",
       "    .dataframe thead th {\n",
       "        text-align: right;\n",
       "    }\n",
       "</style>\n",
       "<table border=\"1\" class=\"dataframe\">\n",
       "  <thead>\n",
       "    <tr style=\"text-align: right;\">\n",
       "      <th></th>\n",
       "      <th>airline</th>\n",
       "      <th>dep_time</th>\n",
       "      <th>from</th>\n",
       "      <th>time_taken</th>\n",
       "      <th>stop</th>\n",
       "      <th>arr_time</th>\n",
       "      <th>to</th>\n",
       "      <th>price</th>\n",
       "      <th>class</th>\n",
       "      <th>days_left</th>\n",
       "      <th>flight_code</th>\n",
       "    </tr>\n",
       "  </thead>\n",
       "  <tbody>\n",
       "    <tr>\n",
       "      <th>0</th>\n",
       "      <td>SpiceJet</td>\n",
       "      <td>18:55</td>\n",
       "      <td>Delhi</td>\n",
       "      <td>02h 10m</td>\n",
       "      <td>non-stop</td>\n",
       "      <td>21:05</td>\n",
       "      <td>Mumbai</td>\n",
       "      <td>5,953</td>\n",
       "      <td>Economy</td>\n",
       "      <td>1</td>\n",
       "      <td>8709-SG</td>\n",
       "    </tr>\n",
       "    <tr>\n",
       "      <th>1</th>\n",
       "      <td>SpiceJet</td>\n",
       "      <td>06:20</td>\n",
       "      <td>Delhi</td>\n",
       "      <td>02h 20m</td>\n",
       "      <td>non-stop</td>\n",
       "      <td>08:40</td>\n",
       "      <td>Mumbai</td>\n",
       "      <td>5,953</td>\n",
       "      <td>Economy</td>\n",
       "      <td>1</td>\n",
       "      <td>8157-SG</td>\n",
       "    </tr>\n",
       "    <tr>\n",
       "      <th>2</th>\n",
       "      <td>AirAsia</td>\n",
       "      <td>04:25</td>\n",
       "      <td>Delhi</td>\n",
       "      <td>02h 10m</td>\n",
       "      <td>non-stop</td>\n",
       "      <td>06:35</td>\n",
       "      <td>Mumbai</td>\n",
       "      <td>5,956</td>\n",
       "      <td>Economy</td>\n",
       "      <td>1</td>\n",
       "      <td>764-I5</td>\n",
       "    </tr>\n",
       "    <tr>\n",
       "      <th>3</th>\n",
       "      <td>Vistara</td>\n",
       "      <td>10:20</td>\n",
       "      <td>Delhi</td>\n",
       "      <td>02h 15m</td>\n",
       "      <td>non-stop</td>\n",
       "      <td>12:35</td>\n",
       "      <td>Mumbai</td>\n",
       "      <td>5,955</td>\n",
       "      <td>Economy</td>\n",
       "      <td>1</td>\n",
       "      <td>995-UK</td>\n",
       "    </tr>\n",
       "    <tr>\n",
       "      <th>4</th>\n",
       "      <td>Vistara</td>\n",
       "      <td>08:50</td>\n",
       "      <td>Delhi</td>\n",
       "      <td>02h 20m</td>\n",
       "      <td>non-stop</td>\n",
       "      <td>11:10</td>\n",
       "      <td>Mumbai</td>\n",
       "      <td>5,955</td>\n",
       "      <td>Economy</td>\n",
       "      <td>1</td>\n",
       "      <td>963-UK</td>\n",
       "    </tr>\n",
       "  </tbody>\n",
       "</table>\n",
       "</div>"
      ],
      "text/plain": [
       "    airline dep_time   from time_taken       stop arr_time      to  price  \\\n",
       "0  SpiceJet    18:55  Delhi    02h 10m  non-stop     21:05  Mumbai  5,953   \n",
       "1  SpiceJet    06:20  Delhi    02h 20m  non-stop     08:40  Mumbai  5,953   \n",
       "2   AirAsia    04:25  Delhi    02h 10m  non-stop     06:35  Mumbai  5,956   \n",
       "3   Vistara    10:20  Delhi    02h 15m  non-stop     12:35  Mumbai  5,955   \n",
       "4   Vistara    08:50  Delhi    02h 20m  non-stop     11:10  Mumbai  5,955   \n",
       "\n",
       "     class  days_left flight_code  \n",
       "0  Economy          1     8709-SG  \n",
       "1  Economy          1     8157-SG  \n",
       "2  Economy          1      764-I5  \n",
       "3  Economy          1      995-UK  \n",
       "4  Economy          1      963-UK  "
      ]
     },
     "execution_count": 24,
     "metadata": {},
     "output_type": "execute_result"
    }
   ],
   "source": [
    "df1.head()"
   ]
  },
  {
   "cell_type": "code",
   "execution_count": 25,
   "id": "892da692",
   "metadata": {},
   "outputs": [
    {
     "data": {
      "text/plain": [
       "dtype('O')"
      ]
     },
     "execution_count": 25,
     "metadata": {},
     "output_type": "execute_result"
    }
   ],
   "source": [
    "df1[\"dep_time\"].dtype"
   ]
  },
  {
   "cell_type": "code",
   "execution_count": 26,
   "id": "455bb067",
   "metadata": {},
   "outputs": [],
   "source": [
    "s = pd.DataFrame(df1[\"dep_time\"].str.split(\":\",expand = True).to_numpy().astype(int),columns = [\"h\",\"m\"])\n",
    "\n",
    "df1[\"dep_time\"]  = pd.cut(x= s[\"h\"] ,bins = 6 , labels = [\"late night\",\"early morning\",\"morning\",\"afternoon\",\"evening\",\"night\"])"
   ]
  },
  {
   "cell_type": "code",
   "execution_count": 27,
   "id": "4a59af04",
   "metadata": {},
   "outputs": [
    {
     "data": {
      "text/html": [
       "<div>\n",
       "<style scoped>\n",
       "    .dataframe tbody tr th:only-of-type {\n",
       "        vertical-align: middle;\n",
       "    }\n",
       "\n",
       "    .dataframe tbody tr th {\n",
       "        vertical-align: top;\n",
       "    }\n",
       "\n",
       "    .dataframe thead th {\n",
       "        text-align: right;\n",
       "    }\n",
       "</style>\n",
       "<table border=\"1\" class=\"dataframe\">\n",
       "  <thead>\n",
       "    <tr style=\"text-align: right;\">\n",
       "      <th></th>\n",
       "      <th>airline</th>\n",
       "      <th>dep_time</th>\n",
       "      <th>from</th>\n",
       "      <th>time_taken</th>\n",
       "      <th>stop</th>\n",
       "      <th>arr_time</th>\n",
       "      <th>to</th>\n",
       "      <th>price</th>\n",
       "      <th>class</th>\n",
       "      <th>days_left</th>\n",
       "      <th>flight_code</th>\n",
       "    </tr>\n",
       "  </thead>\n",
       "  <tbody>\n",
       "    <tr>\n",
       "      <th>0</th>\n",
       "      <td>SpiceJet</td>\n",
       "      <td>evening</td>\n",
       "      <td>Delhi</td>\n",
       "      <td>02h 10m</td>\n",
       "      <td>non-stop</td>\n",
       "      <td>21:05</td>\n",
       "      <td>Mumbai</td>\n",
       "      <td>5,953</td>\n",
       "      <td>Economy</td>\n",
       "      <td>1</td>\n",
       "      <td>8709-SG</td>\n",
       "    </tr>\n",
       "    <tr>\n",
       "      <th>1</th>\n",
       "      <td>SpiceJet</td>\n",
       "      <td>early morning</td>\n",
       "      <td>Delhi</td>\n",
       "      <td>02h 20m</td>\n",
       "      <td>non-stop</td>\n",
       "      <td>08:40</td>\n",
       "      <td>Mumbai</td>\n",
       "      <td>5,953</td>\n",
       "      <td>Economy</td>\n",
       "      <td>1</td>\n",
       "      <td>8157-SG</td>\n",
       "    </tr>\n",
       "    <tr>\n",
       "      <th>2</th>\n",
       "      <td>AirAsia</td>\n",
       "      <td>early morning</td>\n",
       "      <td>Delhi</td>\n",
       "      <td>02h 10m</td>\n",
       "      <td>non-stop</td>\n",
       "      <td>06:35</td>\n",
       "      <td>Mumbai</td>\n",
       "      <td>5,956</td>\n",
       "      <td>Economy</td>\n",
       "      <td>1</td>\n",
       "      <td>764-I5</td>\n",
       "    </tr>\n",
       "    <tr>\n",
       "      <th>3</th>\n",
       "      <td>Vistara</td>\n",
       "      <td>morning</td>\n",
       "      <td>Delhi</td>\n",
       "      <td>02h 15m</td>\n",
       "      <td>non-stop</td>\n",
       "      <td>12:35</td>\n",
       "      <td>Mumbai</td>\n",
       "      <td>5,955</td>\n",
       "      <td>Economy</td>\n",
       "      <td>1</td>\n",
       "      <td>995-UK</td>\n",
       "    </tr>\n",
       "    <tr>\n",
       "      <th>4</th>\n",
       "      <td>Vistara</td>\n",
       "      <td>morning</td>\n",
       "      <td>Delhi</td>\n",
       "      <td>02h 20m</td>\n",
       "      <td>non-stop</td>\n",
       "      <td>11:10</td>\n",
       "      <td>Mumbai</td>\n",
       "      <td>5,955</td>\n",
       "      <td>Economy</td>\n",
       "      <td>1</td>\n",
       "      <td>963-UK</td>\n",
       "    </tr>\n",
       "  </tbody>\n",
       "</table>\n",
       "</div>"
      ],
      "text/plain": [
       "    airline       dep_time   from time_taken       stop arr_time      to  \\\n",
       "0  SpiceJet        evening  Delhi    02h 10m  non-stop     21:05  Mumbai   \n",
       "1  SpiceJet  early morning  Delhi    02h 20m  non-stop     08:40  Mumbai   \n",
       "2   AirAsia  early morning  Delhi    02h 10m  non-stop     06:35  Mumbai   \n",
       "3   Vistara        morning  Delhi    02h 15m  non-stop     12:35  Mumbai   \n",
       "4   Vistara        morning  Delhi    02h 20m  non-stop     11:10  Mumbai   \n",
       "\n",
       "   price    class  days_left flight_code  \n",
       "0  5,953  Economy          1     8709-SG  \n",
       "1  5,953  Economy          1     8157-SG  \n",
       "2  5,956  Economy          1      764-I5  \n",
       "3  5,955  Economy          1      995-UK  \n",
       "4  5,955  Economy          1      963-UK  "
      ]
     },
     "execution_count": 27,
     "metadata": {},
     "output_type": "execute_result"
    }
   ],
   "source": [
    "df1.head()"
   ]
  },
  {
   "cell_type": "code",
   "execution_count": 28,
   "id": "7453551d",
   "metadata": {},
   "outputs": [],
   "source": [
    "s = pd.DataFrame(df1[\"arr_time\"].str.split(\":\",expand = True).to_numpy().astype(int),columns = [\"h\",\"m\"])\n",
    "\n",
    "df1[\"arr_time\"]  = pd.cut(x= s[\"h\"] ,bins = 6 , labels = [\"late night\",\"early morning\",\"morning\",\"afternoon\",\"evening\",\"night\"])"
   ]
  },
  {
   "cell_type": "code",
   "execution_count": 29,
   "id": "8cd3bfd6",
   "metadata": {},
   "outputs": [
    {
     "data": {
      "text/html": [
       "<div>\n",
       "<style scoped>\n",
       "    .dataframe tbody tr th:only-of-type {\n",
       "        vertical-align: middle;\n",
       "    }\n",
       "\n",
       "    .dataframe tbody tr th {\n",
       "        vertical-align: top;\n",
       "    }\n",
       "\n",
       "    .dataframe thead th {\n",
       "        text-align: right;\n",
       "    }\n",
       "</style>\n",
       "<table border=\"1\" class=\"dataframe\">\n",
       "  <thead>\n",
       "    <tr style=\"text-align: right;\">\n",
       "      <th></th>\n",
       "      <th>airline</th>\n",
       "      <th>dep_time</th>\n",
       "      <th>from</th>\n",
       "      <th>time_taken</th>\n",
       "      <th>stop</th>\n",
       "      <th>arr_time</th>\n",
       "      <th>to</th>\n",
       "      <th>price</th>\n",
       "      <th>class</th>\n",
       "      <th>days_left</th>\n",
       "      <th>flight_code</th>\n",
       "    </tr>\n",
       "  </thead>\n",
       "  <tbody>\n",
       "    <tr>\n",
       "      <th>0</th>\n",
       "      <td>SpiceJet</td>\n",
       "      <td>evening</td>\n",
       "      <td>Delhi</td>\n",
       "      <td>02h 10m</td>\n",
       "      <td>non-stop</td>\n",
       "      <td>night</td>\n",
       "      <td>Mumbai</td>\n",
       "      <td>5,953</td>\n",
       "      <td>Economy</td>\n",
       "      <td>1</td>\n",
       "      <td>8709-SG</td>\n",
       "    </tr>\n",
       "    <tr>\n",
       "      <th>1</th>\n",
       "      <td>SpiceJet</td>\n",
       "      <td>early morning</td>\n",
       "      <td>Delhi</td>\n",
       "      <td>02h 20m</td>\n",
       "      <td>non-stop</td>\n",
       "      <td>morning</td>\n",
       "      <td>Mumbai</td>\n",
       "      <td>5,953</td>\n",
       "      <td>Economy</td>\n",
       "      <td>1</td>\n",
       "      <td>8157-SG</td>\n",
       "    </tr>\n",
       "    <tr>\n",
       "      <th>2</th>\n",
       "      <td>AirAsia</td>\n",
       "      <td>early morning</td>\n",
       "      <td>Delhi</td>\n",
       "      <td>02h 10m</td>\n",
       "      <td>non-stop</td>\n",
       "      <td>early morning</td>\n",
       "      <td>Mumbai</td>\n",
       "      <td>5,956</td>\n",
       "      <td>Economy</td>\n",
       "      <td>1</td>\n",
       "      <td>764-I5</td>\n",
       "    </tr>\n",
       "    <tr>\n",
       "      <th>3</th>\n",
       "      <td>Vistara</td>\n",
       "      <td>morning</td>\n",
       "      <td>Delhi</td>\n",
       "      <td>02h 15m</td>\n",
       "      <td>non-stop</td>\n",
       "      <td>afternoon</td>\n",
       "      <td>Mumbai</td>\n",
       "      <td>5,955</td>\n",
       "      <td>Economy</td>\n",
       "      <td>1</td>\n",
       "      <td>995-UK</td>\n",
       "    </tr>\n",
       "    <tr>\n",
       "      <th>4</th>\n",
       "      <td>Vistara</td>\n",
       "      <td>morning</td>\n",
       "      <td>Delhi</td>\n",
       "      <td>02h 20m</td>\n",
       "      <td>non-stop</td>\n",
       "      <td>morning</td>\n",
       "      <td>Mumbai</td>\n",
       "      <td>5,955</td>\n",
       "      <td>Economy</td>\n",
       "      <td>1</td>\n",
       "      <td>963-UK</td>\n",
       "    </tr>\n",
       "  </tbody>\n",
       "</table>\n",
       "</div>"
      ],
      "text/plain": [
       "    airline       dep_time   from time_taken       stop       arr_time  \\\n",
       "0  SpiceJet        evening  Delhi    02h 10m  non-stop           night   \n",
       "1  SpiceJet  early morning  Delhi    02h 20m  non-stop         morning   \n",
       "2   AirAsia  early morning  Delhi    02h 10m  non-stop   early morning   \n",
       "3   Vistara        morning  Delhi    02h 15m  non-stop       afternoon   \n",
       "4   Vistara        morning  Delhi    02h 20m  non-stop         morning   \n",
       "\n",
       "       to  price    class  days_left flight_code  \n",
       "0  Mumbai  5,953  Economy          1     8709-SG  \n",
       "1  Mumbai  5,953  Economy          1     8157-SG  \n",
       "2  Mumbai  5,956  Economy          1      764-I5  \n",
       "3  Mumbai  5,955  Economy          1      995-UK  \n",
       "4  Mumbai  5,955  Economy          1      963-UK  "
      ]
     },
     "execution_count": 29,
     "metadata": {},
     "output_type": "execute_result"
    }
   ],
   "source": [
    "df1.head()"
   ]
  },
  {
   "cell_type": "code",
   "execution_count": 30,
   "id": "7361d4fd",
   "metadata": {},
   "outputs": [
    {
     "data": {
      "text/html": [
       "<div>\n",
       "<style scoped>\n",
       "    .dataframe tbody tr th:only-of-type {\n",
       "        vertical-align: middle;\n",
       "    }\n",
       "\n",
       "    .dataframe tbody tr th {\n",
       "        vertical-align: top;\n",
       "    }\n",
       "\n",
       "    .dataframe thead th {\n",
       "        text-align: right;\n",
       "    }\n",
       "</style>\n",
       "<table border=\"1\" class=\"dataframe\">\n",
       "  <thead>\n",
       "    <tr style=\"text-align: right;\">\n",
       "      <th></th>\n",
       "      <th>airline</th>\n",
       "      <th>dep_time</th>\n",
       "      <th>from</th>\n",
       "      <th>time_taken</th>\n",
       "      <th>stop</th>\n",
       "      <th>arr_time</th>\n",
       "      <th>to</th>\n",
       "      <th>price</th>\n",
       "      <th>class</th>\n",
       "      <th>days_left</th>\n",
       "      <th>flight_code</th>\n",
       "    </tr>\n",
       "  </thead>\n",
       "  <tbody>\n",
       "    <tr>\n",
       "      <th>0</th>\n",
       "      <td>SpiceJet</td>\n",
       "      <td>evening</td>\n",
       "      <td>Delhi</td>\n",
       "      <td>2.17</td>\n",
       "      <td>non-stop</td>\n",
       "      <td>night</td>\n",
       "      <td>Mumbai</td>\n",
       "      <td>5,953</td>\n",
       "      <td>Economy</td>\n",
       "      <td>1</td>\n",
       "      <td>8709-SG</td>\n",
       "    </tr>\n",
       "    <tr>\n",
       "      <th>1</th>\n",
       "      <td>SpiceJet</td>\n",
       "      <td>early morning</td>\n",
       "      <td>Delhi</td>\n",
       "      <td>2.33</td>\n",
       "      <td>non-stop</td>\n",
       "      <td>morning</td>\n",
       "      <td>Mumbai</td>\n",
       "      <td>5,953</td>\n",
       "      <td>Economy</td>\n",
       "      <td>1</td>\n",
       "      <td>8157-SG</td>\n",
       "    </tr>\n",
       "  </tbody>\n",
       "</table>\n",
       "</div>"
      ],
      "text/plain": [
       "    airline       dep_time   from  time_taken       stop arr_time      to  \\\n",
       "0  SpiceJet        evening  Delhi        2.17  non-stop     night  Mumbai   \n",
       "1  SpiceJet  early morning  Delhi        2.33  non-stop   morning  Mumbai   \n",
       "\n",
       "   price    class  days_left flight_code  \n",
       "0  5,953  Economy          1     8709-SG  \n",
       "1  5,953  Economy          1     8157-SG  "
      ]
     },
     "execution_count": 30,
     "metadata": {},
     "output_type": "execute_result"
    }
   ],
   "source": [
    "b = pd.DataFrame(df1[\"time_taken\"].str.split(\" \",expand = True).to_numpy(),columns = [\"h\",\"m\"])\n",
    "b[\"h\"]  = b[\"h\"].apply(lambda x : re.sub(\"[^0-9]\",\"\",x)).astype(int)\n",
    "b[\"m\"]  = b[\"m\"].apply(lambda y : re.sub(\"[^0-9]\",\"\",y))\n",
    "b[\"m\"]  = np.where(b[\"m\"] == \"\", 0, b[\"m\"])\n",
    "b[\"m\"] = b[\"m\"].astype(int)\n",
    "df1[\"time_taken\"] = np.around(b[\"h\"] + b[\"m\"]/60,2)\n",
    "df1.head(2)"
   ]
  },
  {
   "cell_type": "code",
   "execution_count": 31,
   "id": "41ffc8a3",
   "metadata": {},
   "outputs": [
    {
     "data": {
      "text/plain": [
       "1-stop\\n\\t\\t\\t\\t\\t\\t\\t\\t\\t\\t\\t\\t\\n\\t\\t\\t\\t\\t\\t\\t\\t\\t\\t\\t\\t                      243603\n",
       "non-stop                                                                         36044\n",
       "2+-stop                                                                          13288\n",
       "1-stop\\n\\t\\t\\t\\t\\t\\t\\t\\t\\t\\t\\t\\tVia IXU\\n\\t\\t\\t\\t\\t\\t\\t\\t\\t\\t\\t\\t                 1839\n",
       "1-stop\\n\\t\\t\\t\\t\\t\\t\\t\\t\\t\\t\\t\\tVia IDR\\n\\t\\t\\t\\t\\t\\t\\t\\t\\t\\t\\t\\t                 1398\n",
       "1-stop\\n\\t\\t\\t\\t\\t\\t\\t\\t\\t\\t\\t\\tVia Patna\\n\\t\\t\\t\\t\\t\\t\\t\\t\\t\\t\\t\\t                674\n",
       "1-stop\\n\\t\\t\\t\\t\\t\\t\\t\\t\\t\\t\\t\\tVia Indore\\n\\t\\t\\t\\t\\t\\t\\t\\t\\t\\t\\t\\t               381\n",
       "1-stop\\n\\t\\t\\t\\t\\t\\t\\t\\t\\t\\t\\t\\tVia PAT\\n\\t\\t\\t\\t\\t\\t\\t\\t\\t\\t\\t\\t                  354\n",
       "1-stop\\n\\t\\t\\t\\t\\t\\t\\t\\t\\t\\t\\t\\tVia MYQ\\n\\t\\t\\t\\t\\t\\t\\t\\t\\t\\t\\t\\t                  321\n",
       "1-stop\\n\\t\\t\\t\\t\\t\\t\\t\\t\\t\\t\\t\\tVia Bhubaneswar\\n\\t\\t\\t\\t\\t\\t\\t\\t\\t\\t\\t\\t          301\n",
       "1-stop\\n\\t\\t\\t\\t\\t\\t\\t\\t\\t\\t\\t\\tVia KLH\\n\\t\\t\\t\\t\\t\\t\\t\\t\\t\\t\\t\\t                  284\n",
       "1-stop\\n\\t\\t\\t\\t\\t\\t\\t\\t\\t\\t\\t\\tVia JGB\\n\\t\\t\\t\\t\\t\\t\\t\\t\\t\\t\\t\\t                  193\n",
       "1-stop\\n\\t\\t\\t\\t\\t\\t\\t\\t\\t\\t\\t\\tVia JRG\\n\\t\\t\\t\\t\\t\\t\\t\\t\\t\\t\\t\\t                  175\n",
       "1-stop\\n\\t\\t\\t\\t\\t\\t\\t\\t\\t\\t\\t\\tVia STV\\n\\t\\t\\t\\t\\t\\t\\t\\t\\t\\t\\t\\t                  169\n",
       "1-stop\\n\\t\\t\\t\\t\\t\\t\\t\\t\\t\\t\\t\\tVia BBI\\n\\t\\t\\t\\t\\t\\t\\t\\t\\t\\t\\t\\t                  158\n",
       "1-stop\\n\\t\\t\\t\\t\\t\\t\\t\\t\\t\\t\\t\\tVia Delhi\\n\\t\\t\\t\\t\\t\\t\\t\\t\\t\\t\\t\\t                153\n",
       "1-stop\\n\\t\\t\\t\\t\\t\\t\\t\\t\\t\\t\\t\\tVia Hyderabad\\n\\t\\t\\t\\t\\t\\t\\t\\t\\t\\t\\t\\t            143\n",
       "1-stop\\n\\t\\t\\t\\t\\t\\t\\t\\t\\t\\t\\t\\tVia IXE\\n\\t\\t\\t\\t\\t\\t\\t\\t\\t\\t\\t\\t                  120\n",
       "1-stop\\n\\t\\t\\t\\t\\t\\t\\t\\t\\t\\t\\t\\tVia Ranchi\\n\\t\\t\\t\\t\\t\\t\\t\\t\\t\\t\\t\\t               114\n",
       "1-stop\\n\\t\\t\\t\\t\\t\\t\\t\\t\\t\\t\\t\\tVia Raipur\\n\\t\\t\\t\\t\\t\\t\\t\\t\\t\\t\\t\\t               102\n",
       "1-stop\\n\\t\\t\\t\\t\\t\\t\\t\\t\\t\\t\\t\\tVia Chennai\\n\\t\\t\\t\\t\\t\\t\\t\\t\\t\\t\\t\\t               77\n",
       "1-stop\\n\\t\\t\\t\\t\\t\\t\\t\\t\\t\\t\\t\\tVia Guwahati\\n\\t\\t\\t\\t\\t\\t\\t\\t\\t\\t\\t\\t              55\n",
       "1-stop\\n\\t\\t\\t\\t\\t\\t\\t\\t\\t\\t\\t\\tVia Mysore\\n\\t\\t\\t\\t\\t\\t\\t\\t\\t\\t\\t\\t                45\n",
       "1-stop\\n\\t\\t\\t\\t\\t\\t\\t\\t\\t\\t\\t\\tVia Mangalore\\n\\t\\t\\t\\t\\t\\t\\t\\t\\t\\t\\t\\t             39\n",
       "1-stop\\n\\t\\t\\t\\t\\t\\t\\t\\t\\t\\t\\t\\tVia Mumbai\\n\\t\\t\\t\\t\\t\\t\\t\\t\\t\\t\\t\\t                31\n",
       "1-stop\\n\\t\\t\\t\\t\\t\\t\\t\\t\\t\\t\\t\\tVia Kolkata\\n\\t\\t\\t\\t\\t\\t\\t\\t\\t\\t\\t\\t               28\n",
       "1-stop\\n\\t\\t\\t\\t\\t\\t\\t\\t\\t\\t\\t\\tVia VTZ\\n\\t\\t\\t\\t\\t\\t\\t\\t\\t\\t\\t\\t                   27\n",
       "1-stop\\n\\t\\t\\t\\t\\t\\t\\t\\t\\t\\t\\t\\tVia Nagpur\\n\\t\\t\\t\\t\\t\\t\\t\\t\\t\\t\\t\\t                25\n",
       "1-stop\\n\\t\\t\\t\\t\\t\\t\\t\\t\\t\\t\\t\\tVia NDC\\n\\t\\t\\t\\t\\t\\t\\t\\t\\t\\t\\t\\t                   22\n",
       "1-stop\\n\\t\\t\\t\\t\\t\\t\\t\\t\\t\\t\\t\\tVia RPR\\n\\t\\t\\t\\t\\t\\t\\t\\t\\t\\t\\t\\t                   22\n",
       "1-stop\\n\\t\\t\\t\\t\\t\\t\\t\\t\\t\\t\\t\\tVia GOP\\n\\t\\t\\t\\t\\t\\t\\t\\t\\t\\t\\t\\t                   16\n",
       "1-stop\\n\\t\\t\\t\\t\\t\\t\\t\\t\\t\\t\\t\\tVia Surat\\n\\t\\t\\t\\t\\t\\t\\t\\t\\t\\t\\t\\t                 14\n",
       "1-stop\\n\\t\\t\\t\\t\\t\\t\\t\\t\\t\\t\\t\\tVia Lucknow\\n\\t\\t\\t\\t\\t\\t\\t\\t\\t\\t\\t\\t               13\n",
       "1-stop\\n\\t\\t\\t\\t\\t\\t\\t\\t\\t\\t\\t\\tVia NAG\\n\\t\\t\\t\\t\\t\\t\\t\\t\\t\\t\\t\\t                    9\n",
       "1-stop\\n\\t\\t\\t\\t\\t\\t\\t\\t\\t\\t\\t\\tVia Vishakhapatnam\\n\\t\\t\\t\\t\\t\\t\\t\\t\\t\\t\\t\\t         8\n",
       "1-stop\\n\\t\\t\\t\\t\\t\\t\\t\\t\\t\\t\\t\\tVia Kolhapur\\n\\t\\t\\t\\t\\t\\t\\t\\t\\t\\t\\t\\t               5\n",
       "1-stop\\n\\t\\t\\t\\t\\t\\t\\t\\t\\t\\t\\t\\tVia IXR\\n\\t\\t\\t\\t\\t\\t\\t\\t\\t\\t\\t\\t                    4\n",
       "1-stop\\n\\t\\t\\t\\t\\t\\t\\t\\t\\t\\t\\t\\tVia GAY\\n\\t\\t\\t\\t\\t\\t\\t\\t\\t\\t\\t\\t                    3\n",
       "1-stop\\n\\t\\t\\t\\t\\t\\t\\t\\t\\t\\t\\t\\tVia GAU\\n\\t\\t\\t\\t\\t\\t\\t\\t\\t\\t\\t\\t                    3\n",
       "1-stop\\n\\t\\t\\t\\t\\t\\t\\t\\t\\t\\t\\t\\tVia HYD\\n\\t\\t\\t\\t\\t\\t\\t\\t\\t\\t\\t\\t                    1\n",
       "Name: stop, dtype: int64"
      ]
     },
     "execution_count": 31,
     "metadata": {},
     "output_type": "execute_result"
    }
   ],
   "source": [
    "df1[\"stop\"].value_counts()"
   ]
  },
  {
   "cell_type": "code",
   "execution_count": 32,
   "id": "5cdb45e4",
   "metadata": {},
   "outputs": [],
   "source": [
    "d1  =  pd.DataFrame(df1[\"stop\"].str.split(\"-\",expand = True).to_numpy(),columns = [\"stop\",\"none\"])\n",
    "d2  = np.where(d1[\"stop\"] == \"non\", 0,d1[\"stop\"])\n",
    "df1[\"stop\"]   = df1[\"stop\"].apply( lambda x : re.sub(\"[^0-9]\",\"\",x))\n",
    "df1[\"stop\"] = np.where(df1[\"stop\"] == \"\",0,df1[\"stop\"]).astype(int)"
   ]
  },
  {
   "cell_type": "code",
   "execution_count": 33,
   "id": "8b8d7325",
   "metadata": {},
   "outputs": [
    {
     "data": {
      "text/plain": [
       "1    250929\n",
       "0     36044\n",
       "2     13288\n",
       "Name: stop, dtype: int64"
      ]
     },
     "execution_count": 33,
     "metadata": {},
     "output_type": "execute_result"
    }
   ],
   "source": [
    "df1[\"stop\"].value_counts()"
   ]
  },
  {
   "cell_type": "code",
   "execution_count": 34,
   "id": "c88ef42d",
   "metadata": {},
   "outputs": [],
   "source": [
    "df1[\"price\"]  = df1[\"price\"].apply( lambda x : re.sub(\"[^0-9]\",\"\", x)).astype(int)"
   ]
  },
  {
   "cell_type": "code",
   "execution_count": 35,
   "id": "ddd85003",
   "metadata": {},
   "outputs": [],
   "source": [
    "df2 = df1.copy() # make backupe of data"
   ]
  },
  {
   "cell_type": "markdown",
   "id": "c17e7af0",
   "metadata": {},
   "source": [
    "## Step-3(EDA OR Data validation)"
   ]
  },
  {
   "cell_type": "code",
   "execution_count": 36,
   "id": "66b8d2e4",
   "metadata": {},
   "outputs": [
    {
     "data": {
      "text/plain": [
       "(300261, 11)"
      ]
     },
     "execution_count": 36,
     "metadata": {},
     "output_type": "execute_result"
    }
   ],
   "source": [
    "df2.shape"
   ]
  },
  {
   "cell_type": "code",
   "execution_count": 37,
   "id": "def4ef78",
   "metadata": {},
   "outputs": [
    {
     "data": {
      "text/html": [
       "<div>\n",
       "<style scoped>\n",
       "    .dataframe tbody tr th:only-of-type {\n",
       "        vertical-align: middle;\n",
       "    }\n",
       "\n",
       "    .dataframe tbody tr th {\n",
       "        vertical-align: top;\n",
       "    }\n",
       "\n",
       "    .dataframe thead th {\n",
       "        text-align: right;\n",
       "    }\n",
       "</style>\n",
       "<table border=\"1\" class=\"dataframe\">\n",
       "  <thead>\n",
       "    <tr style=\"text-align: right;\">\n",
       "      <th></th>\n",
       "      <th>airline</th>\n",
       "      <th>dep_time</th>\n",
       "      <th>from</th>\n",
       "      <th>time_taken</th>\n",
       "      <th>stop</th>\n",
       "      <th>arr_time</th>\n",
       "      <th>to</th>\n",
       "      <th>price</th>\n",
       "      <th>class</th>\n",
       "      <th>days_left</th>\n",
       "      <th>flight_code</th>\n",
       "    </tr>\n",
       "  </thead>\n",
       "  <tbody>\n",
       "    <tr>\n",
       "      <th>72661</th>\n",
       "      <td>Vistara</td>\n",
       "      <td>afternoon</td>\n",
       "      <td>Mumbai</td>\n",
       "      <td>7.67</td>\n",
       "      <td>2</td>\n",
       "      <td>evening</td>\n",
       "      <td>Hyderabad</td>\n",
       "      <td>6873</td>\n",
       "      <td>Economy</td>\n",
       "      <td>18</td>\n",
       "      <td>613-UK</td>\n",
       "    </tr>\n",
       "    <tr>\n",
       "      <th>4922</th>\n",
       "      <td>Air India</td>\n",
       "      <td>evening</td>\n",
       "      <td>Delhi</td>\n",
       "      <td>2.00</td>\n",
       "      <td>0</td>\n",
       "      <td>night</td>\n",
       "      <td>Mumbai</td>\n",
       "      <td>2476</td>\n",
       "      <td>Economy</td>\n",
       "      <td>26</td>\n",
       "      <td>868-AI</td>\n",
       "    </tr>\n",
       "    <tr>\n",
       "      <th>195587</th>\n",
       "      <td>Vistara</td>\n",
       "      <td>early morning</td>\n",
       "      <td>Chennai</td>\n",
       "      <td>10.83</td>\n",
       "      <td>2</td>\n",
       "      <td>evening</td>\n",
       "      <td>Bangalore</td>\n",
       "      <td>6089</td>\n",
       "      <td>Economy</td>\n",
       "      <td>23</td>\n",
       "      <td>832-UK</td>\n",
       "    </tr>\n",
       "    <tr>\n",
       "      <th>226015</th>\n",
       "      <td>Vistara</td>\n",
       "      <td>afternoon</td>\n",
       "      <td>Mumbai</td>\n",
       "      <td>4.50</td>\n",
       "      <td>1</td>\n",
       "      <td>evening</td>\n",
       "      <td>Delhi</td>\n",
       "      <td>37405</td>\n",
       "      <td>Business</td>\n",
       "      <td>11</td>\n",
       "      <td>613-UK</td>\n",
       "    </tr>\n",
       "    <tr>\n",
       "      <th>35616</th>\n",
       "      <td>Indigo</td>\n",
       "      <td>night</td>\n",
       "      <td>Delhi</td>\n",
       "      <td>2.83</td>\n",
       "      <td>0</td>\n",
       "      <td>late night</td>\n",
       "      <td>Chennai</td>\n",
       "      <td>7425</td>\n",
       "      <td>Economy</td>\n",
       "      <td>4</td>\n",
       "      <td>2061-6E</td>\n",
       "    </tr>\n",
       "  </tbody>\n",
       "</table>\n",
       "</div>"
      ],
      "text/plain": [
       "          airline       dep_time     from  time_taken  stop    arr_time  \\\n",
       "72661     Vistara      afternoon   Mumbai        7.67     2     evening   \n",
       "4922    Air India        evening    Delhi        2.00     0       night   \n",
       "195587    Vistara  early morning  Chennai       10.83     2     evening   \n",
       "226015    Vistara      afternoon   Mumbai        4.50     1     evening   \n",
       "35616      Indigo          night    Delhi        2.83     0  late night   \n",
       "\n",
       "               to  price     class  days_left flight_code  \n",
       "72661   Hyderabad   6873   Economy         18      613-UK  \n",
       "4922       Mumbai   2476   Economy         26      868-AI  \n",
       "195587  Bangalore   6089   Economy         23      832-UK  \n",
       "226015      Delhi  37405  Business         11      613-UK  \n",
       "35616     Chennai   7425   Economy          4     2061-6E  "
      ]
     },
     "execution_count": 37,
     "metadata": {},
     "output_type": "execute_result"
    }
   ],
   "source": [
    "df2.sample(5) # check 5 sample rows from the data"
   ]
  },
  {
   "cell_type": "code",
   "execution_count": 38,
   "id": "aee3bc25",
   "metadata": {},
   "outputs": [
    {
     "name": "stdout",
     "output_type": "stream",
     "text": [
      "<class 'pandas.core.frame.DataFrame'>\n",
      "RangeIndex: 300261 entries, 0 to 300260\n",
      "Data columns (total 11 columns):\n",
      " #   Column       Non-Null Count   Dtype   \n",
      "---  ------       --------------   -----   \n",
      " 0   airline      300261 non-null  object  \n",
      " 1   dep_time     300261 non-null  category\n",
      " 2   from         300261 non-null  object  \n",
      " 3   time_taken   300261 non-null  float64 \n",
      " 4   stop         300261 non-null  int32   \n",
      " 5   arr_time     300261 non-null  category\n",
      " 6   to           300261 non-null  object  \n",
      " 7   price        300261 non-null  int32   \n",
      " 8   class        300261 non-null  object  \n",
      " 9   days_left    300261 non-null  int32   \n",
      " 10  flight_code  300261 non-null  object  \n",
      "dtypes: category(2), float64(1), int32(3), object(5)\n",
      "memory usage: 17.8+ MB\n"
     ]
    }
   ],
   "source": [
    "df2.info() #  information about data type and non null values"
   ]
  },
  {
   "cell_type": "code",
   "execution_count": 39,
   "id": "23f16556",
   "metadata": {},
   "outputs": [
    {
     "data": {
      "text/html": [
       "<div>\n",
       "<style scoped>\n",
       "    .dataframe tbody tr th:only-of-type {\n",
       "        vertical-align: middle;\n",
       "    }\n",
       "\n",
       "    .dataframe tbody tr th {\n",
       "        vertical-align: top;\n",
       "    }\n",
       "\n",
       "    .dataframe thead th {\n",
       "        text-align: right;\n",
       "    }\n",
       "</style>\n",
       "<table border=\"1\" class=\"dataframe\">\n",
       "  <thead>\n",
       "    <tr style=\"text-align: right;\">\n",
       "      <th></th>\n",
       "      <th>time_taken</th>\n",
       "      <th>stop</th>\n",
       "      <th>price</th>\n",
       "      <th>days_left</th>\n",
       "    </tr>\n",
       "  </thead>\n",
       "  <tbody>\n",
       "    <tr>\n",
       "      <th>count</th>\n",
       "      <td>300261.000000</td>\n",
       "      <td>300261.000000</td>\n",
       "      <td>300261.000000</td>\n",
       "      <td>300261.000000</td>\n",
       "    </tr>\n",
       "    <tr>\n",
       "      <th>mean</th>\n",
       "      <td>12.219142</td>\n",
       "      <td>0.924213</td>\n",
       "      <td>20883.717666</td>\n",
       "      <td>26.004473</td>\n",
       "    </tr>\n",
       "    <tr>\n",
       "      <th>std</th>\n",
       "      <td>7.200348</td>\n",
       "      <td>0.398188</td>\n",
       "      <td>22695.911266</td>\n",
       "      <td>13.560985</td>\n",
       "    </tr>\n",
       "    <tr>\n",
       "      <th>min</th>\n",
       "      <td>0.830000</td>\n",
       "      <td>0.000000</td>\n",
       "      <td>1105.000000</td>\n",
       "      <td>1.000000</td>\n",
       "    </tr>\n",
       "    <tr>\n",
       "      <th>25%</th>\n",
       "      <td>6.750000</td>\n",
       "      <td>1.000000</td>\n",
       "      <td>4783.000000</td>\n",
       "      <td>15.000000</td>\n",
       "    </tr>\n",
       "    <tr>\n",
       "      <th>50%</th>\n",
       "      <td>11.250000</td>\n",
       "      <td>1.000000</td>\n",
       "      <td>7425.000000</td>\n",
       "      <td>26.000000</td>\n",
       "    </tr>\n",
       "    <tr>\n",
       "      <th>75%</th>\n",
       "      <td>16.170000</td>\n",
       "      <td>1.000000</td>\n",
       "      <td>42521.000000</td>\n",
       "      <td>38.000000</td>\n",
       "    </tr>\n",
       "    <tr>\n",
       "      <th>max</th>\n",
       "      <td>103.000000</td>\n",
       "      <td>2.000000</td>\n",
       "      <td>123071.000000</td>\n",
       "      <td>49.000000</td>\n",
       "    </tr>\n",
       "  </tbody>\n",
       "</table>\n",
       "</div>"
      ],
      "text/plain": [
       "          time_taken           stop          price      days_left\n",
       "count  300261.000000  300261.000000  300261.000000  300261.000000\n",
       "mean       12.219142       0.924213   20883.717666      26.004473\n",
       "std         7.200348       0.398188   22695.911266      13.560985\n",
       "min         0.830000       0.000000    1105.000000       1.000000\n",
       "25%         6.750000       1.000000    4783.000000      15.000000\n",
       "50%        11.250000       1.000000    7425.000000      26.000000\n",
       "75%        16.170000       1.000000   42521.000000      38.000000\n",
       "max       103.000000       2.000000  123071.000000      49.000000"
      ]
     },
     "execution_count": 39,
     "metadata": {},
     "output_type": "execute_result"
    }
   ],
   "source": [
    "df2.describe() # stats for the numerical columns"
   ]
  },
  {
   "cell_type": "code",
   "execution_count": 40,
   "id": "53087cb4",
   "metadata": {},
   "outputs": [
    {
     "data": {
      "text/plain": [
       "2"
      ]
     },
     "execution_count": 40,
     "metadata": {},
     "output_type": "execute_result"
    }
   ],
   "source": [
    "df2.duplicated().sum()  # check duplicated rows from tthe data"
   ]
  },
  {
   "cell_type": "code",
   "execution_count": 41,
   "id": "aa44dc18",
   "metadata": {},
   "outputs": [
    {
     "data": {
      "text/html": [
       "<div>\n",
       "<style scoped>\n",
       "    .dataframe tbody tr th:only-of-type {\n",
       "        vertical-align: middle;\n",
       "    }\n",
       "\n",
       "    .dataframe tbody tr th {\n",
       "        vertical-align: top;\n",
       "    }\n",
       "\n",
       "    .dataframe thead th {\n",
       "        text-align: right;\n",
       "    }\n",
       "</style>\n",
       "<table border=\"1\" class=\"dataframe\">\n",
       "  <thead>\n",
       "    <tr style=\"text-align: right;\">\n",
       "      <th></th>\n",
       "      <th>airline</th>\n",
       "      <th>dep_time</th>\n",
       "      <th>from</th>\n",
       "      <th>time_taken</th>\n",
       "      <th>stop</th>\n",
       "      <th>arr_time</th>\n",
       "      <th>to</th>\n",
       "      <th>price</th>\n",
       "      <th>class</th>\n",
       "      <th>days_left</th>\n",
       "      <th>flight_code</th>\n",
       "    </tr>\n",
       "  </thead>\n",
       "  <tbody>\n",
       "    <tr>\n",
       "      <th>261485</th>\n",
       "      <td>Vistara</td>\n",
       "      <td>morning</td>\n",
       "      <td>Kolkata</td>\n",
       "      <td>13.5</td>\n",
       "      <td>1</td>\n",
       "      <td>night</td>\n",
       "      <td>Delhi</td>\n",
       "      <td>123071</td>\n",
       "      <td>Business</td>\n",
       "      <td>3</td>\n",
       "      <td>772-UK</td>\n",
       "    </tr>\n",
       "  </tbody>\n",
       "</table>\n",
       "</div>"
      ],
      "text/plain": [
       "        airline dep_time     from  time_taken  stop arr_time     to   price  \\\n",
       "261485  Vistara  morning  Kolkata        13.5     1    night  Delhi  123071   \n",
       "\n",
       "           class  days_left flight_code  \n",
       "261485  Business          3      772-UK  "
      ]
     },
     "execution_count": 41,
     "metadata": {},
     "output_type": "execute_result"
    }
   ],
   "source": [
    "df2[df2[\"price\"] == 123071.000000]"
   ]
  },
  {
   "cell_type": "code",
   "execution_count": 42,
   "id": "9f808348",
   "metadata": {},
   "outputs": [
    {
     "data": {
      "text/plain": [
       "airline        0\n",
       "dep_time       0\n",
       "from           0\n",
       "time_taken     0\n",
       "stop           0\n",
       "arr_time       0\n",
       "to             0\n",
       "price          0\n",
       "class          0\n",
       "days_left      0\n",
       "flight_code    0\n",
       "dtype: int64"
      ]
     },
     "execution_count": 42,
     "metadata": {},
     "output_type": "execute_result"
    }
   ],
   "source": [
    "df2.isnull().sum() # check for null values"
   ]
  },
  {
   "cell_type": "code",
   "execution_count": 43,
   "id": "90e44305",
   "metadata": {},
   "outputs": [
    {
     "data": {
      "text/plain": [
       "Index(['airline', 'dep_time', 'from', 'time_taken', 'stop', 'arr_time', 'to',\n",
       "       'price', 'class', 'days_left', 'flight_code'],\n",
       "      dtype='object')"
      ]
     },
     "execution_count": 43,
     "metadata": {},
     "output_type": "execute_result"
    }
   ],
   "source": [
    "df2.columns"
   ]
  },
  {
   "cell_type": "markdown",
   "id": "4726c39d",
   "metadata": {},
   "source": [
    "### univariate analysis"
   ]
  },
  {
   "cell_type": "code",
   "execution_count": 44,
   "id": "61718f0a",
   "metadata": {},
   "outputs": [
    {
     "data": {
      "text/plain": [
       "Vistara      127859\n",
       "Air India     80894\n",
       "Indigo        43120\n",
       "GO FIRST      23177\n",
       "AirAsia       16098\n",
       "SpiceJet       9011\n",
       "StarAir          61\n",
       "Trujet           41\n",
       "Name: airline, dtype: int64"
      ]
     },
     "execution_count": 44,
     "metadata": {},
     "output_type": "execute_result"
    }
   ],
   "source": [
    "df2[\"airline\"].value_counts()"
   ]
  },
  {
   "cell_type": "code",
   "execution_count": 45,
   "id": "01dfea9c",
   "metadata": {},
   "outputs": [
    {
     "data": {
      "text/plain": [
       "array(['SpiceJet', 'AirAsia', 'Vistara', 'GO FIRST', 'Indigo',\n",
       "       'Air India', 'Trujet', 'StarAir'], dtype=object)"
      ]
     },
     "execution_count": 45,
     "metadata": {},
     "output_type": "execute_result"
    }
   ],
   "source": [
    "df2[\"airline\"].unique()"
   ]
  },
  {
   "cell_type": "code",
   "execution_count": 46,
   "id": "408f165a",
   "metadata": {},
   "outputs": [
    {
     "data": {
      "image/png": "[encoded data removed]",
      "text/plain": [
       "<Figure size 720x360 with 1 Axes>"
      ]
     },
     "metadata": {
      "needs_background": "light"
     },
     "output_type": "display_data"
    }
   ],
   "source": [
    "plt.figure(figsize = (10,5))  # make bar graph for categrories\n",
    "df2[\"airline\"].value_counts().plot(kind = \"bar\",cmap = \"flag\")\n",
    "plt.show()"
   ]
  },
  {
   "cell_type": "code",
   "execution_count": 47,
   "id": "d303b42d",
   "metadata": {},
   "outputs": [
    {
     "data": {
      "text/plain": [
       "morning          75250\n",
       "evening          65417\n",
       "early morning    62042\n",
       "night            49504\n",
       "afternoon        46858\n",
       "late night        1190\n",
       "Name: dep_time, dtype: int64"
      ]
     },
     "execution_count": 47,
     "metadata": {},
     "output_type": "execute_result"
    }
   ],
   "source": [
    "df2[\"dep_time\"].value_counts()"
   ]
  },
  {
   "cell_type": "code",
   "execution_count": 48,
   "id": "75593bd6",
   "metadata": {},
   "outputs": [
    {
     "data": {
      "image/png": "[encoded data removed]",
      "text/plain": [
       "<Figure size 1080x360 with 1 Axes>"
      ]
     },
     "metadata": {},
     "output_type": "display_data"
    }
   ],
   "source": [
    "plt.figure(figsize = (15,5))\n",
    "df2[\"dep_time\"].value_counts().plot(kind = \"pie\",autopct = \"%.2f\",cmap = 'cool')\n",
    "plt.title(\"Dept_time\")\n",
    "plt.show()"
   ]
  },
  {
   "cell_type": "code",
   "execution_count": 49,
   "id": "4192f153",
   "metadata": {},
   "outputs": [
    {
     "data": {
      "image/png": "[encoded data removed]",
      "text/plain": [
       "<Figure size 1080x360 with 1 Axes>"
      ]
     },
     "metadata": {},
     "output_type": "display_data"
    }
   ],
   "source": [
    "plt.figure(figsize = (15,5))\n",
    "df2[\"from\"].value_counts().plot(kind = \"pie\",autopct = \"%.2f\",cmap = 'summer')\n",
    "plt.title(\"From\")\n",
    "plt.show()"
   ]
  },
  {
   "cell_type": "code",
   "execution_count": 50,
   "id": "5acce2b0",
   "metadata": {},
   "outputs": [
    {
     "data": {
      "text/plain": [
       "Index(['airline', 'dep_time', 'from', 'time_taken', 'stop', 'arr_time', 'to',\n",
       "       'price', 'class', 'days_left', 'flight_code'],\n",
       "      dtype='object')"
      ]
     },
     "execution_count": 50,
     "metadata": {},
     "output_type": "execute_result"
    }
   ],
   "source": [
    "df2.columns"
   ]
  },
  {
   "cell_type": "code",
   "execution_count": 51,
   "id": "a2dfc0de",
   "metadata": {},
   "outputs": [
    {
     "data": {
      "image/png": "[encoded data removed]",
      "text/plain": [
       "<Figure size 1080x360 with 1 Axes>"
      ]
     },
     "metadata": {},
     "output_type": "display_data"
    }
   ],
   "source": [
    "plt.figure(figsize = (15,5))\n",
    "df2[\"stop\"].value_counts().plot(kind = \"pie\",autopct = \"%.2f\",cmap = 'spring')\n",
    "plt.title(\"Stop\")\n",
    "plt.show()"
   ]
  },
  {
   "cell_type": "code",
   "execution_count": 52,
   "id": "0ba966f9",
   "metadata": {},
   "outputs": [
    {
     "data": {
      "image/png": "[encoded data removed]",
      "text/plain": [
       "<Figure size 1080x360 with 1 Axes>"
      ]
     },
     "metadata": {},
     "output_type": "display_data"
    }
   ],
   "source": [
    "plt.figure(figsize = (15,5))\n",
    "df2[\"arr_time\"].value_counts().plot(kind = \"pie\",autopct = \"%.2f\",cmap = 'twilight_r')\n",
    "plt.title(\"Arr_time\")\n",
    "plt.show()"
   ]
  },
  {
   "cell_type": "code",
   "execution_count": 53,
   "id": "b1c16d11",
   "metadata": {},
   "outputs": [
    {
     "data": {
      "image/png": "[encoded data removed]",
      "text/plain": [
       "<Figure size 1080x360 with 1 Axes>"
      ]
     },
     "metadata": {},
     "output_type": "display_data"
    }
   ],
   "source": [
    "plt.figure(figsize = (15,5))\n",
    "df2[\"to\"].value_counts().plot(kind = \"pie\",autopct = \"%.2f\",cmap = 'summer')\n",
    "plt.title(\"to\")\n",
    "plt.show()"
   ]
  },
  {
   "cell_type": "code",
   "execution_count": 54,
   "id": "ea8a92e7",
   "metadata": {},
   "outputs": [
    {
     "data": {
      "image/png": "[encoded data removed]",
      "text/plain": [
       "<Figure size 1080x360 with 1 Axes>"
      ]
     },
     "metadata": {},
     "output_type": "display_data"
    }
   ],
   "source": [
    "plt.figure(figsize = (15,5))\n",
    "df2[\"class\"].value_counts().plot(kind = \"pie\",autopct = \"%.2f\",cmap = 'summer')\n",
    "plt.title(\"class\")\n",
    "plt.show()"
   ]
  },
  {
   "cell_type": "code",
   "execution_count": 55,
   "id": "64b37450",
   "metadata": {},
   "outputs": [
    {
     "data": {
      "text/plain": [
       "Index(['airline', 'dep_time', 'from', 'time_taken', 'stop', 'arr_time', 'to',\n",
       "       'price', 'class', 'days_left', 'flight_code'],\n",
       "      dtype='object')"
      ]
     },
     "execution_count": 55,
     "metadata": {},
     "output_type": "execute_result"
    }
   ],
   "source": [
    "df2.columns"
   ]
  },
  {
   "cell_type": "code",
   "execution_count": 56,
   "id": "e966b4aa",
   "metadata": {},
   "outputs": [
    {
     "data": {
      "text/plain": [
       "<AxesSubplot:xlabel='time_taken', ylabel='Density'>"
      ]
     },
     "execution_count": 56,
     "metadata": {},
     "output_type": "execute_result"
    },
    {
     "data": {
      "image/png": "[encoded data removed]",
      "text/plain": [
       "<Figure size 720x360 with 1 Axes>"
      ]
     },
     "metadata": {
      "needs_background": "light"
     },
     "output_type": "display_data"
    }
   ],
   "source": [
    "plt.figure(figsize = (10,5))  # distribution of data numerical column\n",
    "sns.distplot(df2[\"time_taken\"])"
   ]
  },
  {
   "cell_type": "code",
   "execution_count": 57,
   "id": "a685082d",
   "metadata": {},
   "outputs": [
    {
     "data": {
      "text/plain": [
       "<AxesSubplot:xlabel='days_left', ylabel='Density'>"
      ]
     },
     "execution_count": 57,
     "metadata": {},
     "output_type": "execute_result"
    },
    {
     "data": {
      "image/png": "[encoded data removed]",
      "text/plain": [
       "<Figure size 720x360 with 1 Axes>"
      ]
     },
     "metadata": {
      "needs_background": "light"
     },
     "output_type": "display_data"
    }
   ],
   "source": [
    "plt.figure(figsize = (10,5))  # distribution of data for numerical column\n",
    "sns.distplot(df2[\"days_left\"])"
   ]
  },
  {
   "cell_type": "markdown",
   "id": "dea42991",
   "metadata": {},
   "source": [
    "### Bivariate anylysis"
   ]
  },
  {
   "cell_type": "markdown",
   "id": "5d0a0f7e",
   "metadata": {},
   "source": [
    "### a) Does price vary with Airlines?\n"
   ]
  },
  {
   "cell_type": "code",
   "execution_count": 58,
   "id": "ed53e81e",
   "metadata": {},
   "outputs": [
    {
     "data": {
      "text/plain": [
       "<AxesSubplot:xlabel='airline', ylabel='price'>"
      ]
     },
     "execution_count": 58,
     "metadata": {},
     "output_type": "execute_result"
    },
    {
     "data": {
      "image/png": "[encoded data removed]",
      "text/plain": [
       "<Figure size 1080x360 with 1 Axes>"
      ]
     },
     "metadata": {
      "needs_background": "light"
     },
     "output_type": "display_data"
    }
   ],
   "source": [
    "plt.figure(figsize = (15,5))\n",
    "sns.barplot(data = df2, x = \"airline\" , y = \"price\")"
   ]
  },
  {
   "cell_type": "markdown",
   "id": "0a8bfd2f",
   "metadata": {},
   "source": [
    "### b) How is the price affected when tickets are bought in just 1 or 2 days before departure?\n"
   ]
  },
  {
   "cell_type": "code",
   "execution_count": 59,
   "id": "4c1ded25",
   "metadata": {},
   "outputs": [
    {
     "data": {
      "text/plain": [
       "<AxesSubplot:xlabel='days_left', ylabel='price'>"
      ]
     },
     "execution_count": 59,
     "metadata": {},
     "output_type": "execute_result"
    },
    {
     "data": {
      "image/png": "[encoded data removed]",
      "text/plain": [
       "<Figure size 1080x360 with 1 Axes>"
      ]
     },
     "metadata": {
      "needs_background": "light"
     },
     "output_type": "display_data"
    }
   ],
   "source": [
    "plt.figure(figsize = (15,5))\n",
    "sns.barplot(x= \"days_left\",y = \"price\",data = df2)"
   ]
  },
  {
   "cell_type": "markdown",
   "id": "7638a6bc",
   "metadata": {},
   "source": [
    "### c) Does ticket price change based on the departure time and arrival time?"
   ]
  },
  {
   "cell_type": "code",
   "execution_count": 60,
   "id": "fe2d72ca",
   "metadata": {},
   "outputs": [
    {
     "data": {
      "text/plain": [
       "<AxesSubplot:xlabel='arr_time', ylabel='price'>"
      ]
     },
     "execution_count": 60,
     "metadata": {},
     "output_type": "execute_result"
    },
    {
     "data": {
      "image/png": "[encoded data removed]",
      "text/plain": [
       "<Figure size 1440x432 with 2 Axes>"
      ]
     },
     "metadata": {
      "needs_background": "light"
     },
     "output_type": "display_data"
    }
   ],
   "source": [
    "fig,ax=plt.subplots(1,2,figsize=(20,6))\n",
    "\n",
    "sns.barplot(x='dep_time',y='price',data=df2,ax=ax[0])\n",
    "sns.barplot(x='arr_time',y='price',data=df2,ax=ax[1])"
   ]
  },
  {
   "cell_type": "markdown",
   "id": "288c2767",
   "metadata": {},
   "source": [
    "### d) How the price changes with change in Source and Destination?\n"
   ]
  },
  {
   "cell_type": "code",
   "execution_count": 61,
   "id": "c17e00e5",
   "metadata": {},
   "outputs": [
    {
     "data": {
      "text/plain": [
       "<AxesSubplot:xlabel='to', ylabel='price'>"
      ]
     },
     "execution_count": 61,
     "metadata": {},
     "output_type": "execute_result"
    },
    {
     "data": {
      "image/png": "[encoded data removed]",
      "text/plain": [
       "<Figure size 1440x432 with 2 Axes>"
      ]
     },
     "metadata": {
      "needs_background": "light"
     },
     "output_type": "display_data"
    }
   ],
   "source": [
    "fig,ax=plt.subplots(1,2,figsize=(20,6))\n",
    "\n",
    "sns.barplot(x='from',y='price',data=df2,ax=ax[0])\n",
    "sns.barplot(x='to',y='price',data=df2,ax=ax[1])"
   ]
  },
  {
   "cell_type": "code",
   "execution_count": 62,
   "id": "ab63575d",
   "metadata": {},
   "outputs": [
    {
     "data": {
      "text/plain": [
       "<AxesSubplot:xlabel='from', ylabel='price'>"
      ]
     },
     "execution_count": 62,
     "metadata": {},
     "output_type": "execute_result"
    },
    {
     "data": {
      "image/png": "[encoded data removed]",
      "text/plain": [
       "<Figure size 1080x720 with 1 Axes>"
      ]
     },
     "metadata": {
      "needs_background": "light"
     },
     "output_type": "display_data"
    }
   ],
   "source": [
    "plt.figure(figsize = (15,10))\n",
    "sns.barplot(data = df2, x = \"from\" , y = \"price\" , hue = \"to\")"
   ]
  },
  {
   "cell_type": "code",
   "execution_count": 63,
   "id": "ac315832",
   "metadata": {},
   "outputs": [
    {
     "data": {
      "image/png": "[encoded data removed]",
      "text/plain": [
       "<Figure size 1098.88x504 with 1 Axes>"
      ]
     },
     "metadata": {
      "needs_background": "light"
     },
     "output_type": "display_data"
    }
   ],
   "source": [
    "sns.catplot(data = df2, x = \"from\" , y = \"price\", kind = \"strip\" , hue = \"to\",aspect = 2,height = 7,jitter = 0.3)\n",
    "plt.show()"
   ]
  },
  {
   "cell_type": "markdown",
   "id": "d3f4b3f4",
   "metadata": {},
   "source": [
    "### e) How does the ticket price vary between Economy and Business class?"
   ]
  },
  {
   "cell_type": "code",
   "execution_count": 64,
   "id": "d1476bb5",
   "metadata": {},
   "outputs": [
    {
     "data": {
      "text/plain": [
       "<AxesSubplot:xlabel='class', ylabel='price'>"
      ]
     },
     "execution_count": 64,
     "metadata": {},
     "output_type": "execute_result"
    },
    {
     "data": {
      "image/png": "[encoded data removed]",
      "text/plain": [
       "<Figure size 1080x360 with 1 Axes>"
      ]
     },
     "metadata": {
      "needs_background": "light"
     },
     "output_type": "display_data"
    }
   ],
   "source": [
    "plt.figure(figsize = (15,5))\n",
    "sns.barplot(data = df2, x = \"class\" , y = \"price\")"
   ]
  },
  {
   "cell_type": "code",
   "execution_count": 65,
   "id": "55ae7327",
   "metadata": {},
   "outputs": [
    {
     "data": {
      "text/plain": [
       "<AxesSubplot:xlabel='airline', ylabel='price'>"
      ]
     },
     "execution_count": 65,
     "metadata": {},
     "output_type": "execute_result"
    },
    {
     "data": {
      "image/png": "[encoded data removed]",
      "text/plain": [
       "<Figure size 1080x720 with 1 Axes>"
      ]
     },
     "metadata": {
      "needs_background": "light"
     },
     "output_type": "display_data"
    }
   ],
   "source": [
    "plt.figure(figsize = (15,10))\n",
    "sns.barplot(data = df2, x = \"airline\" , y = \"price\" , hue = \"class\")"
   ]
  },
  {
   "cell_type": "code",
   "execution_count": 66,
   "id": "be0cfa20",
   "metadata": {},
   "outputs": [
    {
     "data": {
      "text/plain": [
       "Index(['airline', 'dep_time', 'from', 'time_taken', 'stop', 'arr_time', 'to',\n",
       "       'price', 'class', 'days_left', 'flight_code'],\n",
       "      dtype='object')"
      ]
     },
     "execution_count": 66,
     "metadata": {},
     "output_type": "execute_result"
    }
   ],
   "source": [
    "df2.columns"
   ]
  },
  {
   "cell_type": "markdown",
   "id": "e0a584ed",
   "metadata": {},
   "source": [
    "### Step- 4(Feature engineering)"
   ]
  },
  {
   "cell_type": "code",
   "execution_count": 67,
   "id": "c9e8769f",
   "metadata": {},
   "outputs": [
    {
     "data": {
      "text/html": [
       "<div>\n",
       "<style scoped>\n",
       "    .dataframe tbody tr th:only-of-type {\n",
       "        vertical-align: middle;\n",
       "    }\n",
       "\n",
       "    .dataframe tbody tr th {\n",
       "        vertical-align: top;\n",
       "    }\n",
       "\n",
       "    .dataframe thead th {\n",
       "        text-align: right;\n",
       "    }\n",
       "</style>\n",
       "<table border=\"1\" class=\"dataframe\">\n",
       "  <thead>\n",
       "    <tr style=\"text-align: right;\">\n",
       "      <th></th>\n",
       "      <th>airline</th>\n",
       "      <th>dep_time</th>\n",
       "      <th>from</th>\n",
       "      <th>time_taken</th>\n",
       "      <th>stop</th>\n",
       "      <th>arr_time</th>\n",
       "      <th>to</th>\n",
       "      <th>price</th>\n",
       "      <th>class</th>\n",
       "      <th>days_left</th>\n",
       "      <th>flight_code</th>\n",
       "    </tr>\n",
       "  </thead>\n",
       "  <tbody>\n",
       "    <tr>\n",
       "      <th>85235</th>\n",
       "      <td>Indigo</td>\n",
       "      <td>afternoon</td>\n",
       "      <td>Bangalore</td>\n",
       "      <td>5.17</td>\n",
       "      <td>1</td>\n",
       "      <td>evening</td>\n",
       "      <td>Delhi</td>\n",
       "      <td>10061</td>\n",
       "      <td>Economy</td>\n",
       "      <td>8</td>\n",
       "      <td>7223-6E</td>\n",
       "    </tr>\n",
       "    <tr>\n",
       "      <th>237094</th>\n",
       "      <td>Vistara</td>\n",
       "      <td>afternoon</td>\n",
       "      <td>Mumbai</td>\n",
       "      <td>18.92</td>\n",
       "      <td>1</td>\n",
       "      <td>morning</td>\n",
       "      <td>Kolkata</td>\n",
       "      <td>63725</td>\n",
       "      <td>Business</td>\n",
       "      <td>37</td>\n",
       "      <td>944-UK</td>\n",
       "    </tr>\n",
       "    <tr>\n",
       "      <th>299973</th>\n",
       "      <td>Vistara</td>\n",
       "      <td>morning</td>\n",
       "      <td>Chennai</td>\n",
       "      <td>12.17</td>\n",
       "      <td>1</td>\n",
       "      <td>night</td>\n",
       "      <td>Hyderabad</td>\n",
       "      <td>51457</td>\n",
       "      <td>Business</td>\n",
       "      <td>43</td>\n",
       "      <td>836-UK</td>\n",
       "    </tr>\n",
       "    <tr>\n",
       "      <th>134828</th>\n",
       "      <td>Indigo</td>\n",
       "      <td>early morning</td>\n",
       "      <td>Kolkata</td>\n",
       "      <td>8.58</td>\n",
       "      <td>1</td>\n",
       "      <td>afternoon</td>\n",
       "      <td>Mumbai</td>\n",
       "      <td>3381</td>\n",
       "      <td>Economy</td>\n",
       "      <td>45</td>\n",
       "      <td>7114-6E</td>\n",
       "    </tr>\n",
       "    <tr>\n",
       "      <th>56092</th>\n",
       "      <td>Air India</td>\n",
       "      <td>afternoon</td>\n",
       "      <td>Mumbai</td>\n",
       "      <td>17.33</td>\n",
       "      <td>1</td>\n",
       "      <td>morning</td>\n",
       "      <td>Bangalore</td>\n",
       "      <td>6082</td>\n",
       "      <td>Economy</td>\n",
       "      <td>20</td>\n",
       "      <td>442-AI</td>\n",
       "    </tr>\n",
       "  </tbody>\n",
       "</table>\n",
       "</div>"
      ],
      "text/plain": [
       "          airline       dep_time       from  time_taken  stop   arr_time  \\\n",
       "85235      Indigo      afternoon  Bangalore        5.17     1    evening   \n",
       "237094    Vistara      afternoon     Mumbai       18.92     1    morning   \n",
       "299973    Vistara        morning    Chennai       12.17     1      night   \n",
       "134828     Indigo  early morning    Kolkata        8.58     1  afternoon   \n",
       "56092   Air India      afternoon     Mumbai       17.33     1    morning   \n",
       "\n",
       "               to  price     class  days_left flight_code  \n",
       "85235       Delhi  10061   Economy          8     7223-6E  \n",
       "237094    Kolkata  63725  Business         37      944-UK  \n",
       "299973  Hyderabad  51457  Business         43      836-UK  \n",
       "134828     Mumbai   3381   Economy         45     7114-6E  \n",
       "56092   Bangalore   6082   Economy         20      442-AI  "
      ]
     },
     "execution_count": 67,
     "metadata": {},
     "output_type": "execute_result"
    }
   ],
   "source": [
    "df2.sample(5)"
   ]
  },
  {
   "cell_type": "markdown",
   "id": "263dd268",
   "metadata": {},
   "source": [
    "### we have to do encoding for columns because model understand only numerical data"
   ]
  },
  {
   "cell_type": "code",
   "execution_count": 68,
   "id": "140787b4",
   "metadata": {
    "scrolled": true
   },
   "outputs": [],
   "source": [
    "# we replace the value of columns \n",
    "df2.replace({\"Economy\":0,\"Business\":1},inplace = True)# replace the value of calss column economy class 0 and business 1\n",
    "df2[\"dep_time\"].replace({\"morning\":0,\"evening\":1,\"early morning\":2,\"night\":3,\"afternoon\":4,\"late night\":5},inplace = True)\n",
    "df2[\"arr_time\"].replace({\"morning\":0,\"evening\":1,\"early morning\":2,\"night\":3,\"afternoon\":4,\"late night\":5},inplace = True)"
   ]
  },
  {
   "cell_type": "code",
   "execution_count": 69,
   "id": "e2bad8bd",
   "metadata": {},
   "outputs": [
    {
     "data": {
      "text/html": [
       "<div>\n",
       "<style scoped>\n",
       "    .dataframe tbody tr th:only-of-type {\n",
       "        vertical-align: middle;\n",
       "    }\n",
       "\n",
       "    .dataframe tbody tr th {\n",
       "        vertical-align: top;\n",
       "    }\n",
       "\n",
       "    .dataframe thead th {\n",
       "        text-align: right;\n",
       "    }\n",
       "</style>\n",
       "<table border=\"1\" class=\"dataframe\">\n",
       "  <thead>\n",
       "    <tr style=\"text-align: right;\">\n",
       "      <th></th>\n",
       "      <th>airline</th>\n",
       "      <th>dep_time</th>\n",
       "      <th>from</th>\n",
       "      <th>time_taken</th>\n",
       "      <th>stop</th>\n",
       "      <th>arr_time</th>\n",
       "      <th>to</th>\n",
       "      <th>price</th>\n",
       "      <th>class</th>\n",
       "      <th>days_left</th>\n",
       "      <th>flight_code</th>\n",
       "    </tr>\n",
       "  </thead>\n",
       "  <tbody>\n",
       "    <tr>\n",
       "      <th>108042</th>\n",
       "      <td>Vistara</td>\n",
       "      <td>0</td>\n",
       "      <td>Bangalore</td>\n",
       "      <td>8.33</td>\n",
       "      <td>1</td>\n",
       "      <td>1</td>\n",
       "      <td>Kolkata</td>\n",
       "      <td>8322</td>\n",
       "      <td>0</td>\n",
       "      <td>38</td>\n",
       "      <td>812-UK</td>\n",
       "    </tr>\n",
       "    <tr>\n",
       "      <th>14541</th>\n",
       "      <td>Air India</td>\n",
       "      <td>0</td>\n",
       "      <td>Delhi</td>\n",
       "      <td>9.50</td>\n",
       "      <td>1</td>\n",
       "      <td>1</td>\n",
       "      <td>Bangalore</td>\n",
       "      <td>4230</td>\n",
       "      <td>0</td>\n",
       "      <td>24</td>\n",
       "      <td>678-AI</td>\n",
       "    </tr>\n",
       "    <tr>\n",
       "      <th>110249</th>\n",
       "      <td>Indigo</td>\n",
       "      <td>0</td>\n",
       "      <td>Bangalore</td>\n",
       "      <td>7.75</td>\n",
       "      <td>1</td>\n",
       "      <td>1</td>\n",
       "      <td>Hyderabad</td>\n",
       "      <td>5488</td>\n",
       "      <td>0</td>\n",
       "      <td>7</td>\n",
       "      <td>541-6E</td>\n",
       "    </tr>\n",
       "    <tr>\n",
       "      <th>219943</th>\n",
       "      <td>Vistara</td>\n",
       "      <td>0</td>\n",
       "      <td>Delhi</td>\n",
       "      <td>2.17</td>\n",
       "      <td>0</td>\n",
       "      <td>4</td>\n",
       "      <td>Hyderabad</td>\n",
       "      <td>24056</td>\n",
       "      <td>1</td>\n",
       "      <td>15</td>\n",
       "      <td>859-UK</td>\n",
       "    </tr>\n",
       "    <tr>\n",
       "      <th>258037</th>\n",
       "      <td>Vistara</td>\n",
       "      <td>0</td>\n",
       "      <td>Bangalore</td>\n",
       "      <td>26.75</td>\n",
       "      <td>1</td>\n",
       "      <td>4</td>\n",
       "      <td>Hyderabad</td>\n",
       "      <td>37985</td>\n",
       "      <td>1</td>\n",
       "      <td>33</td>\n",
       "      <td>852-UK</td>\n",
       "    </tr>\n",
       "  </tbody>\n",
       "</table>\n",
       "</div>"
      ],
      "text/plain": [
       "          airline dep_time       from  time_taken  stop arr_time         to  \\\n",
       "108042    Vistara        0  Bangalore        8.33     1        1    Kolkata   \n",
       "14541   Air India        0      Delhi        9.50     1        1  Bangalore   \n",
       "110249     Indigo        0  Bangalore        7.75     1        1  Hyderabad   \n",
       "219943    Vistara        0      Delhi        2.17     0        4  Hyderabad   \n",
       "258037    Vistara        0  Bangalore       26.75     1        4  Hyderabad   \n",
       "\n",
       "        price  class  days_left flight_code  \n",
       "108042   8322      0         38      812-UK  \n",
       "14541    4230      0         24      678-AI  \n",
       "110249   5488      0          7      541-6E  \n",
       "219943  24056      1         15      859-UK  \n",
       "258037  37985      1         33      852-UK  "
      ]
     },
     "execution_count": 69,
     "metadata": {},
     "output_type": "execute_result"
    }
   ],
   "source": [
    "df2.sample(5)"
   ]
  },
  {
   "cell_type": "code",
   "execution_count": 70,
   "id": "d6f25f29",
   "metadata": {},
   "outputs": [],
   "source": [
    "# one hot encoding \n",
    "for column in [\"airline\",\"from\"]:\n",
    "    enc = OneHotEncoder()\n",
    "    df2[list(df2[column].unique())] = enc.fit_transform(df2[[column]]).toarray()"
   ]
  },
  {
   "cell_type": "code",
   "execution_count": 77,
   "id": "c122884c",
   "metadata": {},
   "outputs": [],
   "source": [
    "# get dummies for categorical data\n",
    "df2[[\"to_Bangalore\",\"to_Chennai\",\"to_Delhi\",\"to_Hyderabad\",\"to_Kolkata\",\"to_Mumbai\"]]  = pd.get_dummies(df2[\"to\"],prefix=\"to\",prefix_sep='_')"
   ]
  },
  {
   "cell_type": "code",
   "execution_count": 78,
   "id": "820cf68c",
   "metadata": {},
   "outputs": [
    {
     "data": {
      "text/plain": [
       "Index(['airline', 'dep_time', 'from', 'time_taken', 'stop', 'arr_time', 'to',\n",
       "       'price', 'class', 'days_left', 'flight_code', 'SpiceJet', 'AirAsia',\n",
       "       'Vistara', 'GO FIRST', 'Indigo', 'Air India', 'Trujet', 'StarAir',\n",
       "       'Delhi', 'Mumbai', 'Bangalore', 'Kolkata', 'Hyderabad', 'Chennai',\n",
       "       'to_Bangalore', 'to_Chennai', 'to_Delhi', 'to_Hyderabad', 'to_Kolkata',\n",
       "       'to_Mumbai'],\n",
       "      dtype='object')"
      ]
     },
     "execution_count": 78,
     "metadata": {},
     "output_type": "execute_result"
    }
   ],
   "source": [
    "df2.columns"
   ]
  },
  {
   "cell_type": "code",
   "execution_count": 79,
   "id": "5f11454e",
   "metadata": {},
   "outputs": [
    {
     "data": {
      "text/html": [
       "<div>\n",
       "<style scoped>\n",
       "    .dataframe tbody tr th:only-of-type {\n",
       "        vertical-align: middle;\n",
       "    }\n",
       "\n",
       "    .dataframe tbody tr th {\n",
       "        vertical-align: top;\n",
       "    }\n",
       "\n",
       "    .dataframe thead th {\n",
       "        text-align: right;\n",
       "    }\n",
       "</style>\n",
       "<table border=\"1\" class=\"dataframe\">\n",
       "  <thead>\n",
       "    <tr style=\"text-align: right;\">\n",
       "      <th></th>\n",
       "      <th>airline</th>\n",
       "      <th>dep_time</th>\n",
       "      <th>from</th>\n",
       "      <th>time_taken</th>\n",
       "      <th>stop</th>\n",
       "      <th>arr_time</th>\n",
       "      <th>to</th>\n",
       "      <th>price</th>\n",
       "      <th>class</th>\n",
       "      <th>days_left</th>\n",
       "      <th>...</th>\n",
       "      <th>Bangalore</th>\n",
       "      <th>Kolkata</th>\n",
       "      <th>Hyderabad</th>\n",
       "      <th>Chennai</th>\n",
       "      <th>to_Bangalore</th>\n",
       "      <th>to_Chennai</th>\n",
       "      <th>to_Delhi</th>\n",
       "      <th>to_Hyderabad</th>\n",
       "      <th>to_Kolkata</th>\n",
       "      <th>to_Mumbai</th>\n",
       "    </tr>\n",
       "  </thead>\n",
       "  <tbody>\n",
       "    <tr>\n",
       "      <th>135247</th>\n",
       "      <td>Vistara</td>\n",
       "      <td>0</td>\n",
       "      <td>Kolkata</td>\n",
       "      <td>13.58</td>\n",
       "      <td>1</td>\n",
       "      <td>3</td>\n",
       "      <td>Mumbai</td>\n",
       "      <td>6067</td>\n",
       "      <td>0</td>\n",
       "      <td>47</td>\n",
       "      <td>...</td>\n",
       "      <td>0.0</td>\n",
       "      <td>0.0</td>\n",
       "      <td>1.0</td>\n",
       "      <td>0.0</td>\n",
       "      <td>0</td>\n",
       "      <td>0</td>\n",
       "      <td>0</td>\n",
       "      <td>0</td>\n",
       "      <td>0</td>\n",
       "      <td>1</td>\n",
       "    </tr>\n",
       "    <tr>\n",
       "      <th>20356</th>\n",
       "      <td>Indigo</td>\n",
       "      <td>3</td>\n",
       "      <td>Delhi</td>\n",
       "      <td>2.08</td>\n",
       "      <td>0</td>\n",
       "      <td>5</td>\n",
       "      <td>Kolkata</td>\n",
       "      <td>5955</td>\n",
       "      <td>0</td>\n",
       "      <td>3</td>\n",
       "      <td>...</td>\n",
       "      <td>1.0</td>\n",
       "      <td>0.0</td>\n",
       "      <td>0.0</td>\n",
       "      <td>0.0</td>\n",
       "      <td>0</td>\n",
       "      <td>0</td>\n",
       "      <td>0</td>\n",
       "      <td>0</td>\n",
       "      <td>1</td>\n",
       "      <td>0</td>\n",
       "    </tr>\n",
       "    <tr>\n",
       "      <th>39136</th>\n",
       "      <td>Indigo</td>\n",
       "      <td>4</td>\n",
       "      <td>Delhi</td>\n",
       "      <td>8.25</td>\n",
       "      <td>1</td>\n",
       "      <td>3</td>\n",
       "      <td>Chennai</td>\n",
       "      <td>5918</td>\n",
       "      <td>0</td>\n",
       "      <td>26</td>\n",
       "      <td>...</td>\n",
       "      <td>1.0</td>\n",
       "      <td>0.0</td>\n",
       "      <td>0.0</td>\n",
       "      <td>0.0</td>\n",
       "      <td>0</td>\n",
       "      <td>1</td>\n",
       "      <td>0</td>\n",
       "      <td>0</td>\n",
       "      <td>0</td>\n",
       "      <td>0</td>\n",
       "    </tr>\n",
       "    <tr>\n",
       "      <th>195615</th>\n",
       "      <td>GO FIRST</td>\n",
       "      <td>0</td>\n",
       "      <td>Chennai</td>\n",
       "      <td>8.17</td>\n",
       "      <td>1</td>\n",
       "      <td>1</td>\n",
       "      <td>Bangalore</td>\n",
       "      <td>9999</td>\n",
       "      <td>0</td>\n",
       "      <td>23</td>\n",
       "      <td>...</td>\n",
       "      <td>0.0</td>\n",
       "      <td>0.0</td>\n",
       "      <td>0.0</td>\n",
       "      <td>0.0</td>\n",
       "      <td>1</td>\n",
       "      <td>0</td>\n",
       "      <td>0</td>\n",
       "      <td>0</td>\n",
       "      <td>0</td>\n",
       "      <td>0</td>\n",
       "    </tr>\n",
       "    <tr>\n",
       "      <th>57689</th>\n",
       "      <td>Vistara</td>\n",
       "      <td>2</td>\n",
       "      <td>Mumbai</td>\n",
       "      <td>8.50</td>\n",
       "      <td>1</td>\n",
       "      <td>1</td>\n",
       "      <td>Bangalore</td>\n",
       "      <td>12907</td>\n",
       "      <td>0</td>\n",
       "      <td>28</td>\n",
       "      <td>...</td>\n",
       "      <td>0.0</td>\n",
       "      <td>0.0</td>\n",
       "      <td>0.0</td>\n",
       "      <td>1.0</td>\n",
       "      <td>1</td>\n",
       "      <td>0</td>\n",
       "      <td>0</td>\n",
       "      <td>0</td>\n",
       "      <td>0</td>\n",
       "      <td>0</td>\n",
       "    </tr>\n",
       "  </tbody>\n",
       "</table>\n",
       "<p>5 rows × 31 columns</p>\n",
       "</div>"
      ],
      "text/plain": [
       "         airline dep_time     from  time_taken  stop arr_time         to  \\\n",
       "135247   Vistara        0  Kolkata       13.58     1        3     Mumbai   \n",
       "20356     Indigo        3    Delhi        2.08     0        5    Kolkata   \n",
       "39136     Indigo        4    Delhi        8.25     1        3    Chennai   \n",
       "195615  GO FIRST        0  Chennai        8.17     1        1  Bangalore   \n",
       "57689    Vistara        2   Mumbai        8.50     1        1  Bangalore   \n",
       "\n",
       "        price  class  days_left  ... Bangalore  Kolkata  Hyderabad  Chennai  \\\n",
       "135247   6067      0         47  ...       0.0      0.0        1.0      0.0   \n",
       "20356    5955      0          3  ...       1.0      0.0        0.0      0.0   \n",
       "39136    5918      0         26  ...       1.0      0.0        0.0      0.0   \n",
       "195615   9999      0         23  ...       0.0      0.0        0.0      0.0   \n",
       "57689   12907      0         28  ...       0.0      0.0        0.0      1.0   \n",
       "\n",
       "        to_Bangalore  to_Chennai  to_Delhi  to_Hyderabad  to_Kolkata  \\\n",
       "135247             0           0         0             0           0   \n",
       "20356              0           0         0             0           1   \n",
       "39136              0           1         0             0           0   \n",
       "195615             1           0         0             0           0   \n",
       "57689              1           0         0             0           0   \n",
       "\n",
       "        to_Mumbai  \n",
       "135247          1  \n",
       "20356           0  \n",
       "39136           0  \n",
       "195615          0  \n",
       "57689           0  \n",
       "\n",
       "[5 rows x 31 columns]"
      ]
     },
     "execution_count": 79,
     "metadata": {},
     "output_type": "execute_result"
    }
   ],
   "source": [
    "df2.sample(5)"
   ]
  },
  {
   "cell_type": "code",
   "execution_count": 80,
   "id": "a4f84674",
   "metadata": {},
   "outputs": [],
   "source": [
    "df2.drop([\"flight_code\",\"airline\",\"from\",\"to\"],axis = 1,inplace = True) # delete columns "
   ]
  },
  {
   "cell_type": "code",
   "execution_count": 81,
   "id": "16f3b46c",
   "metadata": {},
   "outputs": [
    {
     "data": {
      "text/html": [
       "<div>\n",
       "<style scoped>\n",
       "    .dataframe tbody tr th:only-of-type {\n",
       "        vertical-align: middle;\n",
       "    }\n",
       "\n",
       "    .dataframe tbody tr th {\n",
       "        vertical-align: top;\n",
       "    }\n",
       "\n",
       "    .dataframe thead th {\n",
       "        text-align: right;\n",
       "    }\n",
       "</style>\n",
       "<table border=\"1\" class=\"dataframe\">\n",
       "  <thead>\n",
       "    <tr style=\"text-align: right;\">\n",
       "      <th></th>\n",
       "      <th>dep_time</th>\n",
       "      <th>time_taken</th>\n",
       "      <th>stop</th>\n",
       "      <th>arr_time</th>\n",
       "      <th>price</th>\n",
       "      <th>class</th>\n",
       "      <th>days_left</th>\n",
       "      <th>SpiceJet</th>\n",
       "      <th>AirAsia</th>\n",
       "      <th>Vistara</th>\n",
       "      <th>...</th>\n",
       "      <th>Bangalore</th>\n",
       "      <th>Kolkata</th>\n",
       "      <th>Hyderabad</th>\n",
       "      <th>Chennai</th>\n",
       "      <th>to_Bangalore</th>\n",
       "      <th>to_Chennai</th>\n",
       "      <th>to_Delhi</th>\n",
       "      <th>to_Hyderabad</th>\n",
       "      <th>to_Kolkata</th>\n",
       "      <th>to_Mumbai</th>\n",
       "    </tr>\n",
       "  </thead>\n",
       "  <tbody>\n",
       "    <tr>\n",
       "      <th>140479</th>\n",
       "      <td>1</td>\n",
       "      <td>2.58</td>\n",
       "      <td>0</td>\n",
       "      <td>1</td>\n",
       "      <td>3860</td>\n",
       "      <td>0</td>\n",
       "      <td>36</td>\n",
       "      <td>0.0</td>\n",
       "      <td>0.0</td>\n",
       "      <td>1.0</td>\n",
       "      <td>...</td>\n",
       "      <td>0.0</td>\n",
       "      <td>0.0</td>\n",
       "      <td>1.0</td>\n",
       "      <td>0.0</td>\n",
       "      <td>1</td>\n",
       "      <td>0</td>\n",
       "      <td>0</td>\n",
       "      <td>0</td>\n",
       "      <td>0</td>\n",
       "      <td>0</td>\n",
       "    </tr>\n",
       "  </tbody>\n",
       "</table>\n",
       "<p>1 rows × 27 columns</p>\n",
       "</div>"
      ],
      "text/plain": [
       "       dep_time  time_taken  stop arr_time  price  class  days_left  SpiceJet  \\\n",
       "140479        1        2.58     0        1   3860      0         36       0.0   \n",
       "\n",
       "        AirAsia  Vistara  ...  Bangalore  Kolkata  Hyderabad  Chennai  \\\n",
       "140479      0.0      1.0  ...        0.0      0.0        1.0      0.0   \n",
       "\n",
       "        to_Bangalore  to_Chennai  to_Delhi  to_Hyderabad  to_Kolkata  \\\n",
       "140479             1           0         0             0           0   \n",
       "\n",
       "        to_Mumbai  \n",
       "140479          0  \n",
       "\n",
       "[1 rows x 27 columns]"
      ]
     },
     "execution_count": 81,
     "metadata": {},
     "output_type": "execute_result"
    }
   ],
   "source": [
    "df2.sample()"
   ]
  },
  {
   "cell_type": "markdown",
   "id": "bfda637b",
   "metadata": {},
   "source": [
    "## step-5(Feature selection)"
   ]
  },
  {
   "cell_type": "markdown",
   "id": "e47109e6",
   "metadata": {},
   "source": [
    "## step-6(Model selection )"
   ]
  },
  {
   "cell_type": "code",
   "execution_count": 82,
   "id": "f05aa31f",
   "metadata": {},
   "outputs": [],
   "source": [
    "x = df2.drop(\"price\",axis = 1)\n",
    "y = df2[\"price\"]"
   ]
  },
  {
   "cell_type": "code",
   "execution_count": null,
   "id": "677e4d84",
   "metadata": {},
   "outputs": [],
   "source": []
  },
  {
   "cell_type": "markdown",
   "id": "4cfa78ad",
   "metadata": {},
   "source": [
    "### split the model "
   ]
  },
  {
   "cell_type": "code",
   "execution_count": 83,
   "id": "8d21d1b3",
   "metadata": {},
   "outputs": [],
   "source": [
    "x_train,x_test,y_train,y_test = train_test_split(x , y ,test_size=0.2 , random_state=45)"
   ]
  },
  {
   "cell_type": "code",
   "execution_count": 84,
   "id": "af4e41bf",
   "metadata": {},
   "outputs": [],
   "source": [
    "# if we want to use use knn algorithm so we have to do scaling \n",
    "scal = StandardScaler()\n",
    "arr = scal.fit_transform(x_train)\n",
    "x_train1 = pd.DataFrame(arr, columns = x_train.columns)"
   ]
  },
  {
   "cell_type": "code",
   "execution_count": 85,
   "id": "3e31e03e",
   "metadata": {},
   "outputs": [],
   "source": [
    "x_test1 = scal.transform(x_test)"
   ]
  },
  {
   "cell_type": "markdown",
   "id": "ff608fa4",
   "metadata": {},
   "source": [
    "### Step-7(model training)"
   ]
  },
  {
   "cell_type": "code",
   "execution_count": 86,
   "id": "b420f64d",
   "metadata": {},
   "outputs": [],
   "source": [
    "def get_accuracy(model_name):\n",
    "    model         = model_name\n",
    "    model.fit(x_train1,y_train)\n",
    "    y_pred_train  = model.predict(x_train1)\n",
    "    mse_train     = mean_squared_error(y_train,y_pred_train)\n",
    "    mae_train     = mean_absolute_error(y_train,y_pred_train)\n",
    "    r2score_train = r2_score(y_train,y_pred_train)\n",
    "    \n",
    "    y_pred_test   = model.predict(x_test1)\n",
    "    mse_test      = mean_squared_error(y_test,y_pred_test)\n",
    "    mae_test      = mean_absolute_error(y_test,y_pred_test)\n",
    "    r2score_test = r2_score(y_test,y_pred_test)\n",
    "    \n",
    "    return print(f\"mse_train {mse_train} \\nmae_train {mae_train} \\nr2score_train {r2score_train} \\nmse_test {mse_test} \\nmae_test {mae_test} \\nr2score_test {r2score_test}\")"
   ]
  },
  {
   "cell_type": "code",
   "execution_count": 87,
   "id": "c83ffd3f",
   "metadata": {},
   "outputs": [
    {
     "name": "stdout",
     "output_type": "stream",
     "text": [
      "LinearRegression\n",
      "mse_train 46635481.84183037 \n",
      "mae_train 4527.341082464732 \n",
      "r2score_train 0.9094242605917209 \n",
      "mse_test 46563864.32216772 \n",
      "mae_test 4520.704001659236 \n",
      "r2score_test 0.9097599287374148\n",
      "None\n",
      "****************************************************************************************************\n",
      "DecisionTreeRegressor\n",
      "mse_train 370447.06732706656 \n",
      "mae_train 57.450258387175566 \n",
      "r2score_train 0.9992805152705706 \n",
      "mse_test 12324775.229839105 \n",
      "mae_test 1162.4327316426047 \n",
      "r2score_test 0.9761147703003992\n",
      "None\n",
      "****************************************************************************************************\n",
      "RandomForestRegressor\n",
      "mse_train 370447.06732706656 \n",
      "mae_train 57.450258387175566 \n",
      "r2score_train 0.9992805152705706 \n",
      "mse_test 12254899.782442639 \n",
      "mae_test 1160.3473237529074 \n",
      "r2score_test 0.9762501878703185\n",
      "None\n",
      "****************************************************************************************************\n",
      "XGBRegressor\n",
      "mse_train 11261566.818602398 \n",
      "mae_train 1920.1269162307055 \n",
      "r2score_train 0.9781277108929595 \n",
      "mse_test 11856266.171763377 \n",
      "mae_test 1965.0438917353554 \n",
      "r2score_test 0.9770227338339968\n",
      "None\n",
      "****************************************************************************************************\n"
     ]
    }
   ],
   "source": [
    "for model_name,model in [(\"LinearRegression\",LinearRegression()),(\"DecisionTreeRegressor\",DecisionTreeRegressor()),(\"RandomForestRegressor\",DecisionTreeRegressor()),(\"XGBRegressor\",XGBRegressor())]:\n",
    "    print(model_name)\n",
    "    print(get_accuracy(model))\n",
    "    print(\"*\"*100)"
   ]
  },
  {
   "cell_type": "markdown",
   "id": "71255d2b",
   "metadata": {},
   "source": [
    "### i m going with the random forest algorthm beacuse it gives best r2 score"
   ]
  },
  {
   "cell_type": "markdown",
   "id": "886f196a",
   "metadata": {},
   "source": [
    "### Step-8(Model evaluation)"
   ]
  },
  {
   "cell_type": "code",
   "execution_count": 90,
   "id": "dcffdd3f",
   "metadata": {},
   "outputs": [
    {
     "data": {
      "text/html": [
       "<style>#sk-container-id-1 {color: black;background-color: white;}#sk-container-id-1 pre{padding: 0;}#sk-container-id-1 div.sk-toggleable {background-color: white;}#sk-container-id-1 label.sk-toggleable__label {cursor: pointer;display: block;width: 100%;margin-bottom: 0;padding: 0.3em;box-sizing: border-box;text-align: center;}#sk-container-id-1 label.sk-toggleable__label-arrow:before {content: \"▸\";float: left;margin-right: 0.25em;color: #696969;}#sk-container-id-1 label.sk-toggleable__label-arrow:hover:before {color: black;}#sk-container-id-1 div.sk-estimator:hover label.sk-toggleable__label-arrow:before {color: black;}#sk-container-id-1 div.sk-toggleable__content {max-height: 0;max-width: 0;overflow: hidden;text-align: left;background-color: #f0f8ff;}#sk-container-id-1 div.sk-toggleable__content pre {margin: 0.2em;color: black;border-radius: 0.25em;background-color: #f0f8ff;}#sk-container-id-1 input.sk-toggleable__control:checked~div.sk-toggleable__content {max-height: 200px;max-width: 100%;overflow: auto;}#sk-container-id-1 input.sk-toggleable__control:checked~label.sk-toggleable__label-arrow:before {content: \"▾\";}#sk-container-id-1 div.sk-estimator input.sk-toggleable__control:checked~label.sk-toggleable__label {background-color: #d4ebff;}#sk-container-id-1 div.sk-label input.sk-toggleable__control:checked~label.sk-toggleable__label {background-color: #d4ebff;}#sk-container-id-1 input.sk-hidden--visually {border: 0;clip: rect(1px 1px 1px 1px);clip: rect(1px, 1px, 1px, 1px);height: 1px;margin: -1px;overflow: hidden;padding: 0;position: absolute;width: 1px;}#sk-container-id-1 div.sk-estimator {font-family: monospace;background-color: #f0f8ff;border: 1px dotted black;border-radius: 0.25em;box-sizing: border-box;margin-bottom: 0.5em;}#sk-container-id-1 div.sk-estimator:hover {background-color: #d4ebff;}#sk-container-id-1 div.sk-parallel-item::after {content: \"\";width: 100%;border-bottom: 1px solid gray;flex-grow: 1;}#sk-container-id-1 div.sk-label:hover label.sk-toggleable__label {background-color: #d4ebff;}#sk-container-id-1 div.sk-serial::before {content: \"\";position: absolute;border-left: 1px solid gray;box-sizing: border-box;top: 0;bottom: 0;left: 50%;z-index: 0;}#sk-container-id-1 div.sk-serial {display: flex;flex-direction: column;align-items: center;background-color: white;padding-right: 0.2em;padding-left: 0.2em;position: relative;}#sk-container-id-1 div.sk-item {position: relative;z-index: 1;}#sk-container-id-1 div.sk-parallel {display: flex;align-items: stretch;justify-content: center;background-color: white;position: relative;}#sk-container-id-1 div.sk-item::before, #sk-container-id-1 div.sk-parallel-item::before {content: \"\";position: absolute;border-left: 1px solid gray;box-sizing: border-box;top: 0;bottom: 0;left: 50%;z-index: -1;}#sk-container-id-1 div.sk-parallel-item {display: flex;flex-direction: column;z-index: 1;position: relative;background-color: white;}#sk-container-id-1 div.sk-parallel-item:first-child::after {align-self: flex-end;width: 50%;}#sk-container-id-1 div.sk-parallel-item:last-child::after {align-self: flex-start;width: 50%;}#sk-container-id-1 div.sk-parallel-item:only-child::after {width: 0;}#sk-container-id-1 div.sk-dashed-wrapped {border: 1px dashed gray;margin: 0 0.4em 0.5em 0.4em;box-sizing: border-box;padding-bottom: 0.4em;background-color: white;}#sk-container-id-1 div.sk-label label {font-family: monospace;font-weight: bold;display: inline-block;line-height: 1.2em;}#sk-container-id-1 div.sk-label-container {text-align: center;}#sk-container-id-1 div.sk-container {/* jupyter's `normalize.less` sets `[hidden] { display: none; }` but bootstrap.min.css set `[hidden] { display: none !important; }` so we also need the `!important` here to be able to override the default hidden behavior on the sphinx rendered scikit-learn.org. See: https://github.com/scikit-learn/scikit-learn/issues/21755 */display: inline-block !important;position: relative;}#sk-container-id-1 div.sk-text-repr-fallback {display: none;}</style><div id=\"sk-container-id-1\" class=\"sk-top-container\"><div class=\"sk-text-repr-fallback\"><pre>RandomForestRegressor()</pre><b>In a Jupyter environment, please rerun this cell to show the HTML representation or trust the notebook. <br />On GitHub, the HTML representation is unable to render, please try loading this page with nbviewer.org.</b></div><div class=\"sk-container\" hidden><div class=\"sk-item\"><div class=\"sk-estimator sk-toggleable\"><input class=\"sk-toggleable__control sk-hidden--visually\" id=\"sk-estimator-id-1\" type=\"checkbox\" checked><label for=\"sk-estimator-id-1\" class=\"sk-toggleable__label sk-toggleable__label-arrow\">RandomForestRegressor</label><div class=\"sk-toggleable__content\"><pre>RandomForestRegressor()</pre></div></div></div></div></div>"
      ],
      "text/plain": [
       "RandomForestRegressor()"
      ]
     },
     "execution_count": 90,
     "metadata": {},
     "output_type": "execute_result"
    }
   ],
   "source": [
    "random_model = RandomForestRegressor()\n",
    "random_model.fit(x_train1,y_train)"
   ]
  },
  {
   "cell_type": "markdown",
   "id": "cc9dc08d",
   "metadata": {},
   "source": [
    "### Accuracy in trainig time "
   ]
  },
  {
   "cell_type": "code",
   "execution_count": 91,
   "id": "f9e5acd6",
   "metadata": {},
   "outputs": [
    {
     "name": "stdout",
     "output_type": "stream",
     "text": [
      "0.9974453979014763\n"
     ]
    }
   ],
   "source": [
    "y_pred_train  = random_model.predict(x_train1)\n",
    "mse_train     = mean_squared_error(y_train,y_pred_train)\n",
    "mae_train     = mean_absolute_error(y_train,y_pred_train)\n",
    "r2score_train = r2_score(y_train,y_pred_train)\n",
    "print(r2score_train)"
   ]
  },
  {
   "cell_type": "markdown",
   "id": "51df82ec",
   "metadata": {},
   "source": [
    "### Accuracy in testing time"
   ]
  },
  {
   "cell_type": "code",
   "execution_count": 92,
   "id": "6e3391fc",
   "metadata": {},
   "outputs": [
    {
     "name": "stdout",
     "output_type": "stream",
     "text": [
      "0.9851791389277064\n"
     ]
    }
   ],
   "source": [
    "y_pred_test  = random_model.predict(x_test1)\n",
    "mse_test     = mean_squared_error(y_test,y_pred_test)\n",
    "mae_test     = mean_absolute_error(y_test,y_pred_test)\n",
    "r2score_test = r2_score(y_test,y_pred_test)\n",
    "print(r2score_test)"
   ]
  },
  {
   "cell_type": "markdown",
   "id": "271a1a2f",
   "metadata": {},
   "source": [
    "## Exporting the files for write apis"
   ]
  },
  {
   "cell_type": "code",
   "execution_count": 95,
   "id": "bbe91cff",
   "metadata": {},
   "outputs": [],
   "source": [
    "columns_name = {\"columns\":list(x_train.columns),\"class\":{\"Economy\":0,\"Business\":1},\n",
    "               \"dep_time\":{\"morning\":0,\"evening\":1,\"early morning\":2,\"night\":3,\"afternoon\":4,\"late night\":5},\n",
    "               \"arr_time\":{\"morning\":0,\"evening\":1,\"early morning\":2,\"night\":3,\"afternoon\":4,\"late night\":5}}"
   ]
  },
  {
   "cell_type": "code",
   "execution_count": 93,
   "id": "6a9c1797",
   "metadata": {},
   "outputs": [],
   "source": [
    "# random forest algorithm file\n",
    "with open (\"model.pkl\",\"wb\") as f:\n",
    "    pickle.dump(random_model,f)"
   ]
  },
  {
   "cell_type": "code",
   "execution_count": 94,
   "id": "f6106808",
   "metadata": {},
   "outputs": [],
   "source": [
    "# standart scaling file\n",
    "with open (\"scaling.pkl\",\"wb\") as f:\n",
    "    pickle.dump(scal,f)"
   ]
  },
  {
   "cell_type": "code",
   "execution_count": 96,
   "id": "cbc433b7",
   "metadata": {},
   "outputs": [],
   "source": [
    "with open (\"column.json\",\"w\") as f:\n",
    "    json.dump(columns_name,f)"
   ]
  }
 ],
 "metadata": {
  "kernelspec": {
   "display_name": "Python 3 (ipykernel)",
   "language": "python",
   "name": "python3"
  },
  "language_info": {
   "codemirror_mode": {
    "name": "ipython",
    "version": 3
   },
   "file_extension": ".py",
   "mimetype": "text/x-python",
   "name": "python",
   "nbconvert_exporter": "python",
   "pygments_lexer": "ipython3",
   "version": "3.10.4"
  }
 },
 "nbformat": 4,
 "nbformat_minor": 5
}
